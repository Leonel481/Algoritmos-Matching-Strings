{
  "nbformat": 4,
  "nbformat_minor": 0,
  "metadata": {
    "colab": {
      "provenance": []
    },
    "kernelspec": {
      "name": "python3",
      "display_name": "Python 3"
    },
    "language_info": {
      "name": "python"
    }
  },
  "cells": [
    {
      "cell_type": "code",
      "metadata": {
        "colab": {
          "base_uri": "https://localhost:8080/"
        },
        "id": "PLCggPsla2jV",
        "outputId": "55c579cf-3228-4939-abad-e6d1199f23a5"
      },
      "source": [
        "pip install recordlinkage"
      ],
      "execution_count": null,
      "outputs": [
        {
          "output_type": "stream",
          "name": "stdout",
          "text": [
            "Collecting recordlinkage\n",
            "  Downloading recordlinkage-0.14-py3-none-any.whl (944 kB)\n",
            "\u001b[?25l\r\u001b[K     |▍                               | 10 kB 25.8 MB/s eta 0:00:01\r\u001b[K     |▊                               | 20 kB 32.2 MB/s eta 0:00:01\r\u001b[K     |█                               | 30 kB 38.1 MB/s eta 0:00:01\r\u001b[K     |█▍                              | 40 kB 26.7 MB/s eta 0:00:01\r\u001b[K     |█▊                              | 51 kB 26.4 MB/s eta 0:00:01\r\u001b[K     |██                              | 61 kB 27.5 MB/s eta 0:00:01\r\u001b[K     |██▍                             | 71 kB 26.8 MB/s eta 0:00:01\r\u001b[K     |██▊                             | 81 kB 28.4 MB/s eta 0:00:01\r\u001b[K     |███▏                            | 92 kB 30.6 MB/s eta 0:00:01\r\u001b[K     |███▌                            | 102 kB 31.0 MB/s eta 0:00:01\r\u001b[K     |███▉                            | 112 kB 31.0 MB/s eta 0:00:01\r\u001b[K     |████▏                           | 122 kB 31.0 MB/s eta 0:00:01\r\u001b[K     |████▌                           | 133 kB 31.0 MB/s eta 0:00:01\r\u001b[K     |████▉                           | 143 kB 31.0 MB/s eta 0:00:01\r\u001b[K     |█████▏                          | 153 kB 31.0 MB/s eta 0:00:01\r\u001b[K     |█████▌                          | 163 kB 31.0 MB/s eta 0:00:01\r\u001b[K     |██████                          | 174 kB 31.0 MB/s eta 0:00:01\r\u001b[K     |██████▎                         | 184 kB 31.0 MB/s eta 0:00:01\r\u001b[K     |██████▋                         | 194 kB 31.0 MB/s eta 0:00:01\r\u001b[K     |███████                         | 204 kB 31.0 MB/s eta 0:00:01\r\u001b[K     |███████▎                        | 215 kB 31.0 MB/s eta 0:00:01\r\u001b[K     |███████▋                        | 225 kB 31.0 MB/s eta 0:00:01\r\u001b[K     |████████                        | 235 kB 31.0 MB/s eta 0:00:01\r\u001b[K     |████████▎                       | 245 kB 31.0 MB/s eta 0:00:01\r\u001b[K     |████████▊                       | 256 kB 31.0 MB/s eta 0:00:01\r\u001b[K     |█████████                       | 266 kB 31.0 MB/s eta 0:00:01\r\u001b[K     |█████████▍                      | 276 kB 31.0 MB/s eta 0:00:01\r\u001b[K     |█████████▊                      | 286 kB 31.0 MB/s eta 0:00:01\r\u001b[K     |██████████                      | 296 kB 31.0 MB/s eta 0:00:01\r\u001b[K     |██████████▍                     | 307 kB 31.0 MB/s eta 0:00:01\r\u001b[K     |██████████▊                     | 317 kB 31.0 MB/s eta 0:00:01\r\u001b[K     |███████████                     | 327 kB 31.0 MB/s eta 0:00:01\r\u001b[K     |███████████▌                    | 337 kB 31.0 MB/s eta 0:00:01\r\u001b[K     |███████████▉                    | 348 kB 31.0 MB/s eta 0:00:01\r\u001b[K     |████████████▏                   | 358 kB 31.0 MB/s eta 0:00:01\r\u001b[K     |████████████▌                   | 368 kB 31.0 MB/s eta 0:00:01\r\u001b[K     |████████████▉                   | 378 kB 31.0 MB/s eta 0:00:01\r\u001b[K     |█████████████▏                  | 389 kB 31.0 MB/s eta 0:00:01\r\u001b[K     |█████████████▌                  | 399 kB 31.0 MB/s eta 0:00:01\r\u001b[K     |█████████████▉                  | 409 kB 31.0 MB/s eta 0:00:01\r\u001b[K     |██████████████▎                 | 419 kB 31.0 MB/s eta 0:00:01\r\u001b[K     |██████████████▋                 | 430 kB 31.0 MB/s eta 0:00:01\r\u001b[K     |███████████████                 | 440 kB 31.0 MB/s eta 0:00:01\r\u001b[K     |███████████████▎                | 450 kB 31.0 MB/s eta 0:00:01\r\u001b[K     |███████████████▋                | 460 kB 31.0 MB/s eta 0:00:01\r\u001b[K     |████████████████                | 471 kB 31.0 MB/s eta 0:00:01\r\u001b[K     |████████████████▎               | 481 kB 31.0 MB/s eta 0:00:01\r\u001b[K     |████████████████▋               | 491 kB 31.0 MB/s eta 0:00:01\r\u001b[K     |█████████████████               | 501 kB 31.0 MB/s eta 0:00:01\r\u001b[K     |█████████████████▍              | 512 kB 31.0 MB/s eta 0:00:01\r\u001b[K     |█████████████████▊              | 522 kB 31.0 MB/s eta 0:00:01\r\u001b[K     |██████████████████              | 532 kB 31.0 MB/s eta 0:00:01\r\u001b[K     |██████████████████▍             | 542 kB 31.0 MB/s eta 0:00:01\r\u001b[K     |██████████████████▊             | 552 kB 31.0 MB/s eta 0:00:01\r\u001b[K     |███████████████████             | 563 kB 31.0 MB/s eta 0:00:01\r\u001b[K     |███████████████████▍            | 573 kB 31.0 MB/s eta 0:00:01\r\u001b[K     |███████████████████▊            | 583 kB 31.0 MB/s eta 0:00:01\r\u001b[K     |████████████████████▏           | 593 kB 31.0 MB/s eta 0:00:01\r\u001b[K     |████████████████████▌           | 604 kB 31.0 MB/s eta 0:00:01\r\u001b[K     |████████████████████▉           | 614 kB 31.0 MB/s eta 0:00:01\r\u001b[K     |█████████████████████▏          | 624 kB 31.0 MB/s eta 0:00:01\r\u001b[K     |█████████████████████▌          | 634 kB 31.0 MB/s eta 0:00:01\r\u001b[K     |█████████████████████▉          | 645 kB 31.0 MB/s eta 0:00:01\r\u001b[K     |██████████████████████▏         | 655 kB 31.0 MB/s eta 0:00:01\r\u001b[K     |██████████████████████▌         | 665 kB 31.0 MB/s eta 0:00:01\r\u001b[K     |███████████████████████         | 675 kB 31.0 MB/s eta 0:00:01\r\u001b[K     |███████████████████████▎        | 686 kB 31.0 MB/s eta 0:00:01\r\u001b[K     |███████████████████████▋        | 696 kB 31.0 MB/s eta 0:00:01\r\u001b[K     |████████████████████████        | 706 kB 31.0 MB/s eta 0:00:01\r\u001b[K     |████████████████████████▎       | 716 kB 31.0 MB/s eta 0:00:01\r\u001b[K     |████████████████████████▋       | 727 kB 31.0 MB/s eta 0:00:01\r\u001b[K     |█████████████████████████       | 737 kB 31.0 MB/s eta 0:00:01\r\u001b[K     |█████████████████████████▎      | 747 kB 31.0 MB/s eta 0:00:01\r\u001b[K     |█████████████████████████▊      | 757 kB 31.0 MB/s eta 0:00:01\r\u001b[K     |██████████████████████████      | 768 kB 31.0 MB/s eta 0:00:01\r\u001b[K     |██████████████████████████▍     | 778 kB 31.0 MB/s eta 0:00:01\r\u001b[K     |██████████████████████████▊     | 788 kB 31.0 MB/s eta 0:00:01\r\u001b[K     |███████████████████████████     | 798 kB 31.0 MB/s eta 0:00:01\r\u001b[K     |███████████████████████████▍    | 808 kB 31.0 MB/s eta 0:00:01\r\u001b[K     |███████████████████████████▊    | 819 kB 31.0 MB/s eta 0:00:01\r\u001b[K     |████████████████████████████    | 829 kB 31.0 MB/s eta 0:00:01\r\u001b[K     |████████████████████████████▌   | 839 kB 31.0 MB/s eta 0:00:01\r\u001b[K     |████████████████████████████▉   | 849 kB 31.0 MB/s eta 0:00:01\r\u001b[K     |█████████████████████████████▏  | 860 kB 31.0 MB/s eta 0:00:01\r\u001b[K     |█████████████████████████████▌  | 870 kB 31.0 MB/s eta 0:00:01\r\u001b[K     |█████████████████████████████▉  | 880 kB 31.0 MB/s eta 0:00:01\r\u001b[K     |██████████████████████████████▏ | 890 kB 31.0 MB/s eta 0:00:01\r\u001b[K     |██████████████████████████████▌ | 901 kB 31.0 MB/s eta 0:00:01\r\u001b[K     |██████████████████████████████▉ | 911 kB 31.0 MB/s eta 0:00:01\r\u001b[K     |███████████████████████████████▎| 921 kB 31.0 MB/s eta 0:00:01\r\u001b[K     |███████████████████████████████▋| 931 kB 31.0 MB/s eta 0:00:01\r\u001b[K     |████████████████████████████████| 942 kB 31.0 MB/s eta 0:00:01\r\u001b[K     |████████████████████████████████| 944 kB 31.0 MB/s \n",
            "\u001b[?25hRequirement already satisfied: scipy>=1 in /usr/local/lib/python3.7/dist-packages (from recordlinkage) (1.4.1)\n",
            "Requirement already satisfied: pandas>=0.23 in /usr/local/lib/python3.7/dist-packages (from recordlinkage) (1.1.5)\n",
            "Collecting jellyfish>=0.5.4\n",
            "  Downloading jellyfish-0.8.9.tar.gz (137 kB)\n",
            "\u001b[?25l\r\u001b[K     |██▍                             | 10 kB 35.9 MB/s eta 0:00:01\r\u001b[K     |████▊                           | 20 kB 42.8 MB/s eta 0:00:01\r\u001b[K     |███████▏                        | 30 kB 50.2 MB/s eta 0:00:01\r\u001b[K     |█████████▌                      | 40 kB 54.0 MB/s eta 0:00:01\r\u001b[K     |████████████                    | 51 kB 56.0 MB/s eta 0:00:01\r\u001b[K     |██████████████▎                 | 61 kB 59.5 MB/s eta 0:00:01\r\u001b[K     |████████████████▊               | 71 kB 59.4 MB/s eta 0:00:01\r\u001b[K     |███████████████████             | 81 kB 57.8 MB/s eta 0:00:01\r\u001b[K     |█████████████████████▌          | 92 kB 56.0 MB/s eta 0:00:01\r\u001b[K     |███████████████████████▉        | 102 kB 56.8 MB/s eta 0:00:01\r\u001b[K     |██████████████████████████▎     | 112 kB 56.8 MB/s eta 0:00:01\r\u001b[K     |████████████████████████████▋   | 122 kB 56.8 MB/s eta 0:00:01\r\u001b[K     |███████████████████████████████ | 133 kB 56.8 MB/s eta 0:00:01\r\u001b[K     |████████████████████████████████| 137 kB 56.8 MB/s \n",
            "\u001b[?25hRequirement already satisfied: numpy>=1.13.0 in /usr/local/lib/python3.7/dist-packages (from recordlinkage) (1.19.5)\n",
            "Requirement already satisfied: scikit-learn>=0.19.0 in /usr/local/lib/python3.7/dist-packages (from recordlinkage) (0.22.2.post1)\n",
            "Requirement already satisfied: joblib in /usr/local/lib/python3.7/dist-packages (from recordlinkage) (1.1.0)\n",
            "Requirement already satisfied: pytz>=2017.2 in /usr/local/lib/python3.7/dist-packages (from pandas>=0.23->recordlinkage) (2018.9)\n",
            "Requirement already satisfied: python-dateutil>=2.7.3 in /usr/local/lib/python3.7/dist-packages (from pandas>=0.23->recordlinkage) (2.8.2)\n",
            "Requirement already satisfied: six>=1.5 in /usr/local/lib/python3.7/dist-packages (from python-dateutil>=2.7.3->pandas>=0.23->recordlinkage) (1.15.0)\n",
            "Building wheels for collected packages: jellyfish\n",
            "  Building wheel for jellyfish (setup.py) ... \u001b[?25l\u001b[?25hdone\n",
            "  Created wheel for jellyfish: filename=jellyfish-0.8.9-cp37-cp37m-linux_x86_64.whl size=73212 sha256=3e85319f66203d2fc0584df4163dcd4388b73af0ea1c25eb165d1deac4b1ed94\n",
            "  Stored in directory: /root/.cache/pip/wheels/32/a9/ef/5d8742e72deaf0d1de327a180d008c2c0299367581800ea73f\n",
            "Successfully built jellyfish\n",
            "Installing collected packages: jellyfish, recordlinkage\n",
            "Successfully installed jellyfish-0.8.9 recordlinkage-0.14\n"
          ]
        }
      ]
    },
    {
      "cell_type": "code",
      "metadata": {
        "colab": {
          "base_uri": "https://localhost:8080/"
        },
        "id": "IbT910fs0f9p",
        "outputId": "78311f4e-8b22-4cb1-fe5a-d47b3171535b"
      },
      "source": [
        "pip install fuzzywuzzy"
      ],
      "execution_count": null,
      "outputs": [
        {
          "output_type": "stream",
          "name": "stdout",
          "text": [
            "Collecting fuzzywuzzy\n",
            "  Downloading fuzzywuzzy-0.18.0-py2.py3-none-any.whl (18 kB)\n",
            "Installing collected packages: fuzzywuzzy\n",
            "Successfully installed fuzzywuzzy-0.18.0\n"
          ]
        }
      ]
    },
    {
      "cell_type": "code",
      "metadata": {
        "colab": {
          "base_uri": "https://localhost:8080/"
        },
        "id": "9Jbsn8Fb0m0R",
        "outputId": "fef099db-a6a8-440e-ed14-1ba9bce40d62"
      },
      "source": [
        "pip install fuzzymatcher"
      ],
      "execution_count": null,
      "outputs": [
        {
          "output_type": "stream",
          "name": "stdout",
          "text": [
            "Collecting fuzzymatcher\n",
            "  Downloading fuzzymatcher-0.0.5-py3-none-any.whl (15 kB)\n",
            "Collecting metaphone\n",
            "  Downloading Metaphone-0.6.tar.gz (14 kB)\n",
            "Requirement already satisfied: pandas in /usr/local/lib/python3.7/dist-packages (from fuzzymatcher) (1.1.5)\n",
            "Collecting python-Levenshtein\n",
            "  Downloading python-Levenshtein-0.12.2.tar.gz (50 kB)\n",
            "\u001b[K     |████████████████████████████████| 50 kB 7.7 MB/s \n",
            "\u001b[?25hRequirement already satisfied: python-dateutil in /usr/local/lib/python3.7/dist-packages (from fuzzymatcher) (2.8.2)\n",
            "Requirement already satisfied: fuzzywuzzy in /usr/local/lib/python3.7/dist-packages (from fuzzymatcher) (0.18.0)\n",
            "Requirement already satisfied: pytz>=2017.2 in /usr/local/lib/python3.7/dist-packages (from pandas->fuzzymatcher) (2018.9)\n",
            "Requirement already satisfied: numpy>=1.15.4 in /usr/local/lib/python3.7/dist-packages (from pandas->fuzzymatcher) (1.19.5)\n",
            "Requirement already satisfied: six>=1.5 in /usr/local/lib/python3.7/dist-packages (from python-dateutil->fuzzymatcher) (1.15.0)\n",
            "Requirement already satisfied: setuptools in /usr/local/lib/python3.7/dist-packages (from python-Levenshtein->fuzzymatcher) (57.4.0)\n",
            "Building wheels for collected packages: metaphone, python-Levenshtein\n",
            "  Building wheel for metaphone (setup.py) ... \u001b[?25l\u001b[?25hdone\n",
            "  Created wheel for metaphone: filename=Metaphone-0.6-py3-none-any.whl size=13919 sha256=33e803bf9473d10f1a32774735e72f02ab34736ad4658bbeb00d0525ca767244\n",
            "  Stored in directory: /root/.cache/pip/wheels/1d/a8/cb/6f8902aa5457bd71344e00665c230e9c45255b3f57f2194a0f\n",
            "  Building wheel for python-Levenshtein (setup.py) ... \u001b[?25l\u001b[?25hdone\n",
            "  Created wheel for python-Levenshtein: filename=python_Levenshtein-0.12.2-cp37-cp37m-linux_x86_64.whl size=149854 sha256=7eda92c838a6016ad938122a63a70f1c0af24a9119044d68de3ea48017eae197\n",
            "  Stored in directory: /root/.cache/pip/wheels/05/5f/ca/7c4367734892581bb5ff896f15027a932c551080b2abd3e00d\n",
            "Successfully built metaphone python-Levenshtein\n",
            "Installing collected packages: python-Levenshtein, metaphone, fuzzymatcher\n",
            "Successfully installed fuzzymatcher-0.0.5 metaphone-0.6 python-Levenshtein-0.12.2\n"
          ]
        }
      ]
    },
    {
      "cell_type": "code",
      "metadata": {
        "id": "2bqwwaHCbkxH"
      },
      "source": [
        "import numpy as np\n",
        "import pandas as pd\n",
        "import recordlinkage\n",
        "from pathlib import Path\n",
        "import fuzzywuzzy as fw # works at python 3.6 ver.\n",
        "import fuzzymatcher as fm # works at python 3.6 ver."
      ],
      "execution_count": null,
      "outputs": []
    },
    {
      "cell_type": "code",
      "metadata": {
        "colab": {
          "base_uri": "https://localhost:8080/",
          "height": 319
        },
        "id": "UZum0eYLdOXt",
        "outputId": "d9df2e64-caa0-409d-d998-e9fa77c50e40"
      },
      "source": [
        "base_socio = pd.read_excel('/content/Base Socios Activos al 21.08.21.xlsx',converters={'CODIGO_SOCIO':str,'NUMERO_DOCUMENTO':str},index_col = 'CODIGO_SOCIO')\n",
        "base_socio.head()"
      ],
      "execution_count": null,
      "outputs": [
        {
          "output_type": "execute_result",
          "data": {
            "text/html": [
              "<div>\n",
              "<style scoped>\n",
              "    .dataframe tbody tr th:only-of-type {\n",
              "        vertical-align: middle;\n",
              "    }\n",
              "\n",
              "    .dataframe tbody tr th {\n",
              "        vertical-align: top;\n",
              "    }\n",
              "\n",
              "    .dataframe thead th {\n",
              "        text-align: right;\n",
              "    }\n",
              "</style>\n",
              "<table border=\"1\" class=\"dataframe\">\n",
              "  <thead>\n",
              "    <tr style=\"text-align: right;\">\n",
              "      <th></th>\n",
              "      <th>FPROCESO</th>\n",
              "      <th>CODIGOPERSONA</th>\n",
              "      <th>NUMERO_DOCUMENTO</th>\n",
              "      <th>TIPODOCID</th>\n",
              "      <th>NOMBRE_CLIENTE</th>\n",
              "      <th>PRIMER_SEGUNDO_NOMBRE</th>\n",
              "      <th>PRIMER_APELLIDO</th>\n",
              "      <th>SEGUNDO_APELLIDO</th>\n",
              "    </tr>\n",
              "    <tr>\n",
              "      <th>CODIGO_SOCIO</th>\n",
              "      <th></th>\n",
              "      <th></th>\n",
              "      <th></th>\n",
              "      <th></th>\n",
              "      <th></th>\n",
              "      <th></th>\n",
              "      <th></th>\n",
              "      <th></th>\n",
              "    </tr>\n",
              "  </thead>\n",
              "  <tbody>\n",
              "    <tr>\n",
              "      <th>35399</th>\n",
              "      <td>2021-08-23</td>\n",
              "      <td>35400</td>\n",
              "      <td>000010301</td>\n",
              "      <td>Carnet de Extranjeria</td>\n",
              "      <td>CHING , ÑAU YENG</td>\n",
              "      <td>ÑAU YENG</td>\n",
              "      <td>CHING</td>\n",
              "      <td>.</td>\n",
              "    </tr>\n",
              "    <tr>\n",
              "      <th>33147</th>\n",
              "      <td>2021-08-23</td>\n",
              "      <td>33148</td>\n",
              "      <td>000016244</td>\n",
              "      <td>Carnet de Extranjeria</td>\n",
              "      <td>YAMAUCHI FUJIKAWA, KATSUHIRO</td>\n",
              "      <td>KATSUHIRO</td>\n",
              "      <td>YAMAUCHI</td>\n",
              "      <td>FUJIKAWA</td>\n",
              "    </tr>\n",
              "    <tr>\n",
              "      <th>42414</th>\n",
              "      <td>2021-08-23</td>\n",
              "      <td>42415</td>\n",
              "      <td>000019880</td>\n",
              "      <td>Carnet de Extranjeria</td>\n",
              "      <td>LEE , MEEKYUNG</td>\n",
              "      <td>MEEKYUNG</td>\n",
              "      <td>LEE</td>\n",
              "      <td>.</td>\n",
              "    </tr>\n",
              "    <tr>\n",
              "      <th>36360</th>\n",
              "      <td>2021-08-23</td>\n",
              "      <td>36361</td>\n",
              "      <td>44834686</td>\n",
              "      <td>D.N.I.</td>\n",
              "      <td>VILLAVICENCIO NAKAMOTO ROMINA</td>\n",
              "      <td>ROMINA</td>\n",
              "      <td>VILLAVICENCIO</td>\n",
              "      <td>NAKAMOTO</td>\n",
              "    </tr>\n",
              "    <tr>\n",
              "      <th>36064</th>\n",
              "      <td>2021-08-23</td>\n",
              "      <td>36065</td>\n",
              "      <td>44890322</td>\n",
              "      <td>D.N.I.</td>\n",
              "      <td>RODRIGUEZ NEYRA, LUIS GUILLERMO</td>\n",
              "      <td>LUIS GUILLERMO</td>\n",
              "      <td>RODRIGUEZ</td>\n",
              "      <td>NEYRA</td>\n",
              "    </tr>\n",
              "  </tbody>\n",
              "</table>\n",
              "</div>"
            ],
            "text/plain": [
              "               FPROCESO  CODIGOPERSONA  ... PRIMER_APELLIDO SEGUNDO_APELLIDO\n",
              "CODIGO_SOCIO                            ...                                 \n",
              "35399        2021-08-23          35400  ...           CHING                .\n",
              "33147        2021-08-23          33148  ...        YAMAUCHI         FUJIKAWA\n",
              "42414        2021-08-23          42415  ...             LEE                .\n",
              "36360        2021-08-23          36361  ...   VILLAVICENCIO         NAKAMOTO\n",
              "36064        2021-08-23          36065  ...       RODRIGUEZ            NEYRA\n",
              "\n",
              "[5 rows x 8 columns]"
            ]
          },
          "metadata": {},
          "execution_count": 5
        }
      ]
    },
    {
      "cell_type": "code",
      "metadata": {
        "colab": {
          "base_uri": "https://localhost:8080/"
        },
        "id": "HKFmHAD8FZP-",
        "outputId": "4245e9ee-9150-4165-808f-a2f24155dbd0"
      },
      "source": [
        "base_socio.info()"
      ],
      "execution_count": null,
      "outputs": [
        {
          "output_type": "stream",
          "name": "stdout",
          "text": [
            "<class 'pandas.core.frame.DataFrame'>\n",
            "Int64Index: 61644 entries, 35399 to 152848\n",
            "Data columns (total 8 columns):\n",
            " #   Column                 Non-Null Count  Dtype         \n",
            "---  ------                 --------------  -----         \n",
            " 0   FPROCESO               61644 non-null  datetime64[ns]\n",
            " 1   CODIGOPERSONA          61644 non-null  int64         \n",
            " 2   NUMERO_DOCUMENTO       61604 non-null  object        \n",
            " 3   TIPODOCID              59674 non-null  object        \n",
            " 4   NOMBRE_CLIENTE         61644 non-null  object        \n",
            " 5   PRIMER_SEGUNDO_NOMBRE  59674 non-null  object        \n",
            " 6   PRIMER_APELLIDO        59674 non-null  object        \n",
            " 7   SEGUNDO_APELLIDO       59501 non-null  object        \n",
            "dtypes: datetime64[ns](1), int64(1), object(6)\n",
            "memory usage: 4.2+ MB\n"
          ]
        }
      ]
    },
    {
      "cell_type": "code",
      "metadata": {
        "colab": {
          "base_uri": "https://localhost:8080/",
          "height": 204
        },
        "id": "MTLuhsPpei7R",
        "outputId": "6055b70e-5757-4d60-8503-e7835f4f5285"
      },
      "source": [
        "no_conciliados = pd.read_excel('/content/Depositos No conciliados al 08.11.2021.xlsx',converters={'IMPORTE':str})\n",
        "no_conciliados.head()"
      ],
      "execution_count": null,
      "outputs": [
        {
          "output_type": "execute_result",
          "data": {
            "text/html": [
              "<div>\n",
              "<style scoped>\n",
              "    .dataframe tbody tr th:only-of-type {\n",
              "        vertical-align: middle;\n",
              "    }\n",
              "\n",
              "    .dataframe tbody tr th {\n",
              "        vertical-align: top;\n",
              "    }\n",
              "\n",
              "    .dataframe thead th {\n",
              "        text-align: right;\n",
              "    }\n",
              "</style>\n",
              "<table border=\"1\" class=\"dataframe\">\n",
              "  <thead>\n",
              "    <tr style=\"text-align: right;\">\n",
              "      <th></th>\n",
              "      <th>MONEDA</th>\n",
              "      <th>CUENTABANCO</th>\n",
              "      <th>BANCO</th>\n",
              "      <th>FECHAMOVIMIENTO</th>\n",
              "      <th>IMPORTE</th>\n",
              "      <th>GLOSA</th>\n",
              "    </tr>\n",
              "  </thead>\n",
              "  <tbody>\n",
              "    <tr>\n",
              "      <th>0</th>\n",
              "      <td>SOL</td>\n",
              "      <td>0661-63-0200043647</td>\n",
              "      <td>Banco Continental</td>\n",
              "      <td>2017-06-13</td>\n",
              "      <td>110</td>\n",
              "      <td>A/ PROVEEDO.CAMPOSUR INC SAC</td>\n",
              "    </tr>\n",
              "    <tr>\n",
              "      <th>1</th>\n",
              "      <td>SOL</td>\n",
              "      <td>0661-63-0200043647</td>\n",
              "      <td>Banco Continental</td>\n",
              "      <td>2020-06-04</td>\n",
              "      <td>60</td>\n",
              "      <td>AGÜERO HAMAMOTO DAYANA MIYUKI</td>\n",
              "    </tr>\n",
              "    <tr>\n",
              "      <th>2</th>\n",
              "      <td>SOL</td>\n",
              "      <td>0661-63-0200043647</td>\n",
              "      <td>Banco Continental</td>\n",
              "      <td>2019-04-22</td>\n",
              "      <td>40</td>\n",
              "      <td>AGUIRE HIGA AIDA DELFINA</td>\n",
              "    </tr>\n",
              "    <tr>\n",
              "      <th>3</th>\n",
              "      <td>SOL</td>\n",
              "      <td>0661-63-0200043647</td>\n",
              "      <td>Banco Continental</td>\n",
              "      <td>2020-05-03</td>\n",
              "      <td>560</td>\n",
              "      <td>CALDERON BUITRON RENATO ALFREDO</td>\n",
              "    </tr>\n",
              "    <tr>\n",
              "      <th>4</th>\n",
              "      <td>SOL</td>\n",
              "      <td>0661-63-0200043647</td>\n",
              "      <td>Banco Continental</td>\n",
              "      <td>2018-12-04</td>\n",
              "      <td>45</td>\n",
              "      <td>CAVERO ARCINIEGA CARLA LUZMILA</td>\n",
              "    </tr>\n",
              "  </tbody>\n",
              "</table>\n",
              "</div>"
            ],
            "text/plain": [
              "  MONEDA         CUENTABANCO  ... IMPORTE                            GLOSA\n",
              "0    SOL  0661-63-0200043647  ...     110     A/ PROVEEDO.CAMPOSUR INC SAC\n",
              "1    SOL  0661-63-0200043647  ...      60    AGÜERO HAMAMOTO DAYANA MIYUKI\n",
              "2    SOL  0661-63-0200043647  ...      40         AGUIRE HIGA AIDA DELFINA\n",
              "3    SOL  0661-63-0200043647  ...     560  CALDERON BUITRON RENATO ALFREDO\n",
              "4    SOL  0661-63-0200043647  ...      45   CAVERO ARCINIEGA CARLA LUZMILA\n",
              "\n",
              "[5 rows x 6 columns]"
            ]
          },
          "metadata": {},
          "execution_count": 7
        }
      ]
    },
    {
      "cell_type": "code",
      "metadata": {
        "colab": {
          "base_uri": "https://localhost:8080/"
        },
        "id": "lY59mmWdkbtw",
        "outputId": "b162897d-4bca-430b-ef0c-363be7affef0"
      },
      "source": [
        "no_conciliados.info()"
      ],
      "execution_count": null,
      "outputs": [
        {
          "output_type": "stream",
          "name": "stdout",
          "text": [
            "<class 'pandas.core.frame.DataFrame'>\n",
            "RangeIndex: 468 entries, 0 to 467\n",
            "Data columns (total 6 columns):\n",
            " #   Column           Non-Null Count  Dtype         \n",
            "---  ------           --------------  -----         \n",
            " 0   MONEDA           468 non-null    object        \n",
            " 1   CUENTABANCO      468 non-null    object        \n",
            " 2   BANCO            468 non-null    object        \n",
            " 3   FECHAMOVIMIENTO  468 non-null    datetime64[ns]\n",
            " 4   IMPORTE          468 non-null    object        \n",
            " 5   GLOSA            468 non-null    object        \n",
            "dtypes: datetime64[ns](1), object(5)\n",
            "memory usage: 22.1+ KB\n"
          ]
        }
      ]
    },
    {
      "cell_type": "code",
      "metadata": {
        "colab": {
          "base_uri": "https://localhost:8080/",
          "height": 204
        },
        "id": "ciIcbrHcPwhr",
        "outputId": "5ea1ba6b-9cb2-4260-90bf-0327d6eb7dc3"
      },
      "source": [
        "no_conciliados['INDEX'] = no_conciliados.index\n",
        "no_conciliados.head()"
      ],
      "execution_count": null,
      "outputs": [
        {
          "output_type": "execute_result",
          "data": {
            "text/html": [
              "<div>\n",
              "<style scoped>\n",
              "    .dataframe tbody tr th:only-of-type {\n",
              "        vertical-align: middle;\n",
              "    }\n",
              "\n",
              "    .dataframe tbody tr th {\n",
              "        vertical-align: top;\n",
              "    }\n",
              "\n",
              "    .dataframe thead th {\n",
              "        text-align: right;\n",
              "    }\n",
              "</style>\n",
              "<table border=\"1\" class=\"dataframe\">\n",
              "  <thead>\n",
              "    <tr style=\"text-align: right;\">\n",
              "      <th></th>\n",
              "      <th>MONEDA</th>\n",
              "      <th>CUENTABANCO</th>\n",
              "      <th>BANCO</th>\n",
              "      <th>FECHAMOVIMIENTO</th>\n",
              "      <th>IMPORTE</th>\n",
              "      <th>GLOSA</th>\n",
              "      <th>INDEX</th>\n",
              "    </tr>\n",
              "  </thead>\n",
              "  <tbody>\n",
              "    <tr>\n",
              "      <th>0</th>\n",
              "      <td>SOL</td>\n",
              "      <td>0661-63-0200043647</td>\n",
              "      <td>Banco Continental</td>\n",
              "      <td>2017-06-13</td>\n",
              "      <td>110</td>\n",
              "      <td>A/ PROVEEDO.CAMPOSUR INC SAC</td>\n",
              "      <td>0</td>\n",
              "    </tr>\n",
              "    <tr>\n",
              "      <th>1</th>\n",
              "      <td>SOL</td>\n",
              "      <td>0661-63-0200043647</td>\n",
              "      <td>Banco Continental</td>\n",
              "      <td>2020-06-04</td>\n",
              "      <td>60</td>\n",
              "      <td>AGÜERO HAMAMOTO DAYANA MIYUKI</td>\n",
              "      <td>1</td>\n",
              "    </tr>\n",
              "    <tr>\n",
              "      <th>2</th>\n",
              "      <td>SOL</td>\n",
              "      <td>0661-63-0200043647</td>\n",
              "      <td>Banco Continental</td>\n",
              "      <td>2019-04-22</td>\n",
              "      <td>40</td>\n",
              "      <td>AGUIRE HIGA AIDA DELFINA</td>\n",
              "      <td>2</td>\n",
              "    </tr>\n",
              "    <tr>\n",
              "      <th>3</th>\n",
              "      <td>SOL</td>\n",
              "      <td>0661-63-0200043647</td>\n",
              "      <td>Banco Continental</td>\n",
              "      <td>2020-05-03</td>\n",
              "      <td>560</td>\n",
              "      <td>CALDERON BUITRON RENATO ALFREDO</td>\n",
              "      <td>3</td>\n",
              "    </tr>\n",
              "    <tr>\n",
              "      <th>4</th>\n",
              "      <td>SOL</td>\n",
              "      <td>0661-63-0200043647</td>\n",
              "      <td>Banco Continental</td>\n",
              "      <td>2018-12-04</td>\n",
              "      <td>45</td>\n",
              "      <td>CAVERO ARCINIEGA CARLA LUZMILA</td>\n",
              "      <td>4</td>\n",
              "    </tr>\n",
              "  </tbody>\n",
              "</table>\n",
              "</div>"
            ],
            "text/plain": [
              "  MONEDA         CUENTABANCO  ...                            GLOSA INDEX\n",
              "0    SOL  0661-63-0200043647  ...     A/ PROVEEDO.CAMPOSUR INC SAC     0\n",
              "1    SOL  0661-63-0200043647  ...    AGÜERO HAMAMOTO DAYANA MIYUKI     1\n",
              "2    SOL  0661-63-0200043647  ...         AGUIRE HIGA AIDA DELFINA     2\n",
              "3    SOL  0661-63-0200043647  ...  CALDERON BUITRON RENATO ALFREDO     3\n",
              "4    SOL  0661-63-0200043647  ...   CAVERO ARCINIEGA CARLA LUZMILA     4\n",
              "\n",
              "[5 rows x 7 columns]"
            ]
          },
          "metadata": {},
          "execution_count": 9
        }
      ]
    },
    {
      "cell_type": "code",
      "metadata": {
        "colab": {
          "base_uri": "https://localhost:8080/",
          "height": 235
        },
        "id": "JC65MKjpQBQY",
        "outputId": "c2a5d271-a1d0-4ba7-d404-b34b2c6ca88b"
      },
      "source": [
        "no_conciliados.set_index('INDEX',inplace= True)\n",
        "no_conciliados.head()"
      ],
      "execution_count": null,
      "outputs": [
        {
          "output_type": "execute_result",
          "data": {
            "text/html": [
              "<div>\n",
              "<style scoped>\n",
              "    .dataframe tbody tr th:only-of-type {\n",
              "        vertical-align: middle;\n",
              "    }\n",
              "\n",
              "    .dataframe tbody tr th {\n",
              "        vertical-align: top;\n",
              "    }\n",
              "\n",
              "    .dataframe thead th {\n",
              "        text-align: right;\n",
              "    }\n",
              "</style>\n",
              "<table border=\"1\" class=\"dataframe\">\n",
              "  <thead>\n",
              "    <tr style=\"text-align: right;\">\n",
              "      <th></th>\n",
              "      <th>MONEDA</th>\n",
              "      <th>CUENTABANCO</th>\n",
              "      <th>BANCO</th>\n",
              "      <th>FECHAMOVIMIENTO</th>\n",
              "      <th>IMPORTE</th>\n",
              "      <th>GLOSA</th>\n",
              "    </tr>\n",
              "    <tr>\n",
              "      <th>INDEX</th>\n",
              "      <th></th>\n",
              "      <th></th>\n",
              "      <th></th>\n",
              "      <th></th>\n",
              "      <th></th>\n",
              "      <th></th>\n",
              "    </tr>\n",
              "  </thead>\n",
              "  <tbody>\n",
              "    <tr>\n",
              "      <th>0</th>\n",
              "      <td>SOL</td>\n",
              "      <td>0661-63-0200043647</td>\n",
              "      <td>Banco Continental</td>\n",
              "      <td>2017-06-13</td>\n",
              "      <td>110</td>\n",
              "      <td>A/ PROVEEDO.CAMPOSUR INC SAC</td>\n",
              "    </tr>\n",
              "    <tr>\n",
              "      <th>1</th>\n",
              "      <td>SOL</td>\n",
              "      <td>0661-63-0200043647</td>\n",
              "      <td>Banco Continental</td>\n",
              "      <td>2020-06-04</td>\n",
              "      <td>60</td>\n",
              "      <td>AGÜERO HAMAMOTO DAYANA MIYUKI</td>\n",
              "    </tr>\n",
              "    <tr>\n",
              "      <th>2</th>\n",
              "      <td>SOL</td>\n",
              "      <td>0661-63-0200043647</td>\n",
              "      <td>Banco Continental</td>\n",
              "      <td>2019-04-22</td>\n",
              "      <td>40</td>\n",
              "      <td>AGUIRE HIGA AIDA DELFINA</td>\n",
              "    </tr>\n",
              "    <tr>\n",
              "      <th>3</th>\n",
              "      <td>SOL</td>\n",
              "      <td>0661-63-0200043647</td>\n",
              "      <td>Banco Continental</td>\n",
              "      <td>2020-05-03</td>\n",
              "      <td>560</td>\n",
              "      <td>CALDERON BUITRON RENATO ALFREDO</td>\n",
              "    </tr>\n",
              "    <tr>\n",
              "      <th>4</th>\n",
              "      <td>SOL</td>\n",
              "      <td>0661-63-0200043647</td>\n",
              "      <td>Banco Continental</td>\n",
              "      <td>2018-12-04</td>\n",
              "      <td>45</td>\n",
              "      <td>CAVERO ARCINIEGA CARLA LUZMILA</td>\n",
              "    </tr>\n",
              "  </tbody>\n",
              "</table>\n",
              "</div>"
            ],
            "text/plain": [
              "      MONEDA         CUENTABANCO  ... IMPORTE                            GLOSA\n",
              "INDEX                             ...                                         \n",
              "0        SOL  0661-63-0200043647  ...     110     A/ PROVEEDO.CAMPOSUR INC SAC\n",
              "1        SOL  0661-63-0200043647  ...      60    AGÜERO HAMAMOTO DAYANA MIYUKI\n",
              "2        SOL  0661-63-0200043647  ...      40         AGUIRE HIGA AIDA DELFINA\n",
              "3        SOL  0661-63-0200043647  ...     560  CALDERON BUITRON RENATO ALFREDO\n",
              "4        SOL  0661-63-0200043647  ...      45   CAVERO ARCINIEGA CARLA LUZMILA\n",
              "\n",
              "[5 rows x 6 columns]"
            ]
          },
          "metadata": {},
          "execution_count": 10
        }
      ]
    },
    {
      "cell_type": "code",
      "metadata": {
        "colab": {
          "base_uri": "https://localhost:8080/"
        },
        "id": "VGR_crqVev8Z",
        "outputId": "7e91b937-9d7c-4950-d4e0-4cc28e182517"
      },
      "source": [
        "#Creacion de las indexaciones para el matching\n",
        "indexer = recordlinkage.Index()\n",
        "#Indexacion tipo block\n",
        "indexer.block(left_on = 'GLOSA', right_on = 'NOMBRE_CLIENTE')\n",
        "candidates_block = indexer.index(no_conciliados, base_socio)\n",
        "print(len(candidates_block))"
      ],
      "execution_count": null,
      "outputs": [
        {
          "output_type": "stream",
          "name": "stdout",
          "text": [
            "40\n"
          ]
        }
      ]
    },
    {
      "cell_type": "markdown",
      "source": [
        "# Tipo de indexacion"
      ],
      "metadata": {
        "id": "U5_YJ08a1nhC"
      }
    },
    {
      "cell_type": "code",
      "metadata": {
        "colab": {
          "base_uri": "https://localhost:8080/"
        },
        "id": "JLn1tj-kOdrB",
        "outputId": "6dd1749a-dd21-4a4f-b92c-b6e09a64cbdf"
      },
      "source": [
        "#indexacion tipo full\n",
        "indexer = recordlinkage.Index()\n",
        "indexer.full()\n",
        "candidates_full = indexer.index(no_conciliados, base_socio)\n",
        "print(len(candidates_full))"
      ],
      "execution_count": null,
      "outputs": [
        {
          "output_type": "stream",
          "name": "stdout",
          "text": [
            "WARNING:recordlinkage:indexing - performance warning - A full index can result in large number of record pairs.\n",
            "28849392\n"
          ]
        }
      ]
    },
    {
      "cell_type": "code",
      "metadata": {
        "id": "iF-FziH1Ry6x",
        "colab": {
          "base_uri": "https://localhost:8080/"
        },
        "outputId": "75113bf9-28ce-46e6-a560-e22ae9b036e5"
      },
      "source": [
        "#indexacion tipo Neighbourhood\n",
        "indexer = recordlinkage.Index()\n",
        "indexer.sortedneighbourhood(left_on = 'GLOSA', right_on = 'NOMBRE_CLIENTE',window=5)\n",
        "candidates_neigh = indexer.index(no_conciliados, base_socio)\n",
        "print(len(candidates_neigh))"
      ],
      "execution_count": null,
      "outputs": [
        {
          "output_type": "stream",
          "name": "stdout",
          "text": [
            "1725\n"
          ]
        }
      ]
    },
    {
      "cell_type": "code",
      "metadata": {
        "colab": {
          "base_uri": "https://localhost:8080/"
        },
        "id": "j3pdFphRxXhF",
        "outputId": "85baceb9-efcf-43cd-8fde-36e353b2b174"
      },
      "source": [
        "candidates_neigh"
      ],
      "execution_count": null,
      "outputs": [
        {
          "output_type": "execute_result",
          "data": {
            "text/plain": [
              "MultiIndex([(  0, 1201052),\n",
              "            (  1,   34586),\n",
              "            (  2, 1251837),\n",
              "            (  3,   44722),\n",
              "            (  4,  150547),\n",
              "            (  5,  150523),\n",
              "            (  6,   41319),\n",
              "            (  7,   23255),\n",
              "            (  9, 1200353),\n",
              "            ( 10, 1201565),\n",
              "            ...\n",
              "            (458, 1258528),\n",
              "            (459, 1250150),\n",
              "            (460,  201625),\n",
              "            (461,    5012),\n",
              "            (462,  200715),\n",
              "            (463,   26693),\n",
              "            (464,    3205),\n",
              "            (465,  202074),\n",
              "            (466, 1600001),\n",
              "            (467,  150840)],\n",
              "           names=['INDEX', 'CODIGO_SOCIO'], length=1725)"
            ]
          },
          "metadata": {},
          "execution_count": 14
        }
      ]
    },
    {
      "cell_type": "code",
      "metadata": {
        "id": "__eCAc6YFrZO"
      },
      "source": [
        "#Metodo de comparacion de las variables tipo Neighbourhood\n",
        "compare = recordlinkage.Compare()\n",
        "compare.string('GLOSA','NOMBRE_CLIENTE',threshold = 0.85,label = 'NOMBRE')\n",
        "compare.string('GLOSA','NOMBRE_CLIENTE',\n",
        "               threshold = 0.75,\n",
        "               label = 'NOMBRE PRCT')\n",
        "compare.string('GLOSA','PRIMER_SEGUNDO_NOMBRE',\n",
        "               method= 'jarowinkler',\n",
        "               threshold = 0.75,\n",
        "               label = 'NOMBRES')\n",
        "compare.string('GLOSA','PRIMER_APELLIDO',\n",
        "               method= 'jarowinkler',\n",
        "               threshold = 0.75,\n",
        "               label = 'APELLIDO1')\n",
        "compare.string('GLOSA','SEGUNDO_APELLIDO',\n",
        "               method= 'jarowinkler',\n",
        "               threshold = 0.75,\n",
        "               label = 'APELLIDO')\n",
        "features3 = compare.compute( candidates_neigh,no_conciliados, base_socio)"
      ],
      "execution_count": null,
      "outputs": []
    },
    {
      "cell_type": "code",
      "metadata": {
        "colab": {
          "base_uri": "https://localhost:8080/",
          "height": 235
        },
        "id": "a9bVxxzeF3Gv",
        "outputId": "a32134fb-0839-4af4-da1e-0f08c4779948"
      },
      "source": [
        "features3.head()"
      ],
      "execution_count": null,
      "outputs": [
        {
          "output_type": "execute_result",
          "data": {
            "text/html": [
              "<div>\n",
              "<style scoped>\n",
              "    .dataframe tbody tr th:only-of-type {\n",
              "        vertical-align: middle;\n",
              "    }\n",
              "\n",
              "    .dataframe tbody tr th {\n",
              "        vertical-align: top;\n",
              "    }\n",
              "\n",
              "    .dataframe thead th {\n",
              "        text-align: right;\n",
              "    }\n",
              "</style>\n",
              "<table border=\"1\" class=\"dataframe\">\n",
              "  <thead>\n",
              "    <tr style=\"text-align: right;\">\n",
              "      <th></th>\n",
              "      <th></th>\n",
              "      <th>NOMBRE</th>\n",
              "      <th>NOMBRE PRCT</th>\n",
              "      <th>NOMBRES</th>\n",
              "      <th>APELLIDO1</th>\n",
              "      <th>APELLIDO</th>\n",
              "    </tr>\n",
              "    <tr>\n",
              "      <th>INDEX</th>\n",
              "      <th>CODIGO_SOCIO</th>\n",
              "      <th></th>\n",
              "      <th></th>\n",
              "      <th></th>\n",
              "      <th></th>\n",
              "      <th></th>\n",
              "    </tr>\n",
              "  </thead>\n",
              "  <tbody>\n",
              "    <tr>\n",
              "      <th>0</th>\n",
              "      <th>1201052</th>\n",
              "      <td>0.0</td>\n",
              "      <td>0.0</td>\n",
              "      <td>0.0</td>\n",
              "      <td>0.0</td>\n",
              "      <td>0.0</td>\n",
              "    </tr>\n",
              "    <tr>\n",
              "      <th>1</th>\n",
              "      <th>34586</th>\n",
              "      <td>0.0</td>\n",
              "      <td>0.0</td>\n",
              "      <td>0.0</td>\n",
              "      <td>0.0</td>\n",
              "      <td>0.0</td>\n",
              "    </tr>\n",
              "    <tr>\n",
              "      <th>2</th>\n",
              "      <th>1251837</th>\n",
              "      <td>0.0</td>\n",
              "      <td>0.0</td>\n",
              "      <td>0.0</td>\n",
              "      <td>1.0</td>\n",
              "      <td>0.0</td>\n",
              "    </tr>\n",
              "    <tr>\n",
              "      <th>3</th>\n",
              "      <th>44722</th>\n",
              "      <td>0.0</td>\n",
              "      <td>0.0</td>\n",
              "      <td>0.0</td>\n",
              "      <td>1.0</td>\n",
              "      <td>0.0</td>\n",
              "    </tr>\n",
              "    <tr>\n",
              "      <th>4</th>\n",
              "      <th>150547</th>\n",
              "      <td>0.0</td>\n",
              "      <td>0.0</td>\n",
              "      <td>0.0</td>\n",
              "      <td>1.0</td>\n",
              "      <td>0.0</td>\n",
              "    </tr>\n",
              "  </tbody>\n",
              "</table>\n",
              "</div>"
            ],
            "text/plain": [
              "                    NOMBRE  NOMBRE PRCT  NOMBRES  APELLIDO1  APELLIDO\n",
              "INDEX CODIGO_SOCIO                                                   \n",
              "0     1201052          0.0          0.0      0.0        0.0       0.0\n",
              "1     34586            0.0          0.0      0.0        0.0       0.0\n",
              "2     1251837          0.0          0.0      0.0        1.0       0.0\n",
              "3     44722            0.0          0.0      0.0        1.0       0.0\n",
              "4     150547           0.0          0.0      0.0        1.0       0.0"
            ]
          },
          "metadata": {},
          "execution_count": 17
        }
      ]
    },
    {
      "cell_type": "code",
      "metadata": {
        "colab": {
          "base_uri": "https://localhost:8080/"
        },
        "id": "8EAu0hQGF7x3",
        "outputId": "1dce9c8b-4991-450e-85e6-a6c70c11d6fb"
      },
      "source": [
        "features3.sum(axis =1).value_counts().sort_index(ascending=False)"
      ],
      "execution_count": null,
      "outputs": [
        {
          "output_type": "execute_result",
          "data": {
            "text/plain": [
              "4.0      5\n",
              "3.0     60\n",
              "2.0     47\n",
              "1.0    683\n",
              "0.0    930\n",
              "dtype: int64"
            ]
          },
          "metadata": {},
          "execution_count": 18
        }
      ]
    },
    {
      "cell_type": "markdown",
      "source": [
        "# Creando el score"
      ],
      "metadata": {
        "id": "CUdX-f-B1uRT"
      }
    },
    {
      "cell_type": "code",
      "metadata": {
        "id": "JGupyN0gGlJI"
      },
      "source": [
        "#CREACION DEL SCORE\n",
        "potencial_matches = features3[features3.sum(axis=1)>1].reset_index()"
      ],
      "execution_count": null,
      "outputs": []
    },
    {
      "cell_type": "code",
      "metadata": {
        "colab": {
          "base_uri": "https://localhost:8080/",
          "height": 358
        },
        "id": "OMM6QvC-GvJu",
        "outputId": "ba0c9f2a-ae82-4f7d-a734-6371304df7dc"
      },
      "source": [
        "potencial_matches['score'] = potencial_matches.loc[:,'NOMBRE':'APELLIDO'].sum(axis=1)\n",
        "potencial_matches.head(10)\n",
        "#potencial_matches.shape"
      ],
      "execution_count": null,
      "outputs": [
        {
          "output_type": "execute_result",
          "data": {
            "text/html": [
              "<div>\n",
              "<style scoped>\n",
              "    .dataframe tbody tr th:only-of-type {\n",
              "        vertical-align: middle;\n",
              "    }\n",
              "\n",
              "    .dataframe tbody tr th {\n",
              "        vertical-align: top;\n",
              "    }\n",
              "\n",
              "    .dataframe thead th {\n",
              "        text-align: right;\n",
              "    }\n",
              "</style>\n",
              "<table border=\"1\" class=\"dataframe\">\n",
              "  <thead>\n",
              "    <tr style=\"text-align: right;\">\n",
              "      <th></th>\n",
              "      <th>INDEX</th>\n",
              "      <th>CODIGO_SOCIO</th>\n",
              "      <th>NOMBRE</th>\n",
              "      <th>NOMBRE PRCT</th>\n",
              "      <th>NOMBRES</th>\n",
              "      <th>APELLIDO1</th>\n",
              "      <th>APELLIDO</th>\n",
              "      <th>score</th>\n",
              "    </tr>\n",
              "  </thead>\n",
              "  <tbody>\n",
              "    <tr>\n",
              "      <th>0</th>\n",
              "      <td>31</td>\n",
              "      <td>13555</td>\n",
              "      <td>0.0</td>\n",
              "      <td>1.0</td>\n",
              "      <td>0.0</td>\n",
              "      <td>1.0</td>\n",
              "      <td>1.0</td>\n",
              "      <td>3.0</td>\n",
              "    </tr>\n",
              "    <tr>\n",
              "      <th>1</th>\n",
              "      <td>57</td>\n",
              "      <td>30891</td>\n",
              "      <td>0.0</td>\n",
              "      <td>0.0</td>\n",
              "      <td>0.0</td>\n",
              "      <td>1.0</td>\n",
              "      <td>1.0</td>\n",
              "      <td>2.0</td>\n",
              "    </tr>\n",
              "    <tr>\n",
              "      <th>2</th>\n",
              "      <td>245</td>\n",
              "      <td>1251593</td>\n",
              "      <td>0.0</td>\n",
              "      <td>0.0</td>\n",
              "      <td>0.0</td>\n",
              "      <td>1.0</td>\n",
              "      <td>1.0</td>\n",
              "      <td>2.0</td>\n",
              "    </tr>\n",
              "    <tr>\n",
              "      <th>3</th>\n",
              "      <td>435</td>\n",
              "      <td>29894</td>\n",
              "      <td>0.0</td>\n",
              "      <td>0.0</td>\n",
              "      <td>0.0</td>\n",
              "      <td>1.0</td>\n",
              "      <td>1.0</td>\n",
              "      <td>2.0</td>\n",
              "    </tr>\n",
              "    <tr>\n",
              "      <th>4</th>\n",
              "      <td>462</td>\n",
              "      <td>1243</td>\n",
              "      <td>0.0</td>\n",
              "      <td>0.0</td>\n",
              "      <td>0.0</td>\n",
              "      <td>1.0</td>\n",
              "      <td>1.0</td>\n",
              "      <td>2.0</td>\n",
              "    </tr>\n",
              "    <tr>\n",
              "      <th>5</th>\n",
              "      <td>11</td>\n",
              "      <td>27055</td>\n",
              "      <td>0.0</td>\n",
              "      <td>0.0</td>\n",
              "      <td>1.0</td>\n",
              "      <td>1.0</td>\n",
              "      <td>0.0</td>\n",
              "      <td>2.0</td>\n",
              "    </tr>\n",
              "    <tr>\n",
              "      <th>6</th>\n",
              "      <td>21</td>\n",
              "      <td>20666</td>\n",
              "      <td>1.0</td>\n",
              "      <td>1.0</td>\n",
              "      <td>0.0</td>\n",
              "      <td>1.0</td>\n",
              "      <td>0.0</td>\n",
              "      <td>3.0</td>\n",
              "    </tr>\n",
              "    <tr>\n",
              "      <th>7</th>\n",
              "      <td>22</td>\n",
              "      <td>20666</td>\n",
              "      <td>1.0</td>\n",
              "      <td>1.0</td>\n",
              "      <td>0.0</td>\n",
              "      <td>1.0</td>\n",
              "      <td>0.0</td>\n",
              "      <td>3.0</td>\n",
              "    </tr>\n",
              "    <tr>\n",
              "      <th>8</th>\n",
              "      <td>23</td>\n",
              "      <td>20666</td>\n",
              "      <td>1.0</td>\n",
              "      <td>1.0</td>\n",
              "      <td>0.0</td>\n",
              "      <td>1.0</td>\n",
              "      <td>0.0</td>\n",
              "      <td>3.0</td>\n",
              "    </tr>\n",
              "    <tr>\n",
              "      <th>9</th>\n",
              "      <td>24</td>\n",
              "      <td>20666</td>\n",
              "      <td>1.0</td>\n",
              "      <td>1.0</td>\n",
              "      <td>0.0</td>\n",
              "      <td>1.0</td>\n",
              "      <td>0.0</td>\n",
              "      <td>3.0</td>\n",
              "    </tr>\n",
              "  </tbody>\n",
              "</table>\n",
              "</div>"
            ],
            "text/plain": [
              "   INDEX  CODIGO_SOCIO  NOMBRE  ...  APELLIDO1  APELLIDO  score\n",
              "0     31         13555     0.0  ...        1.0       1.0    3.0\n",
              "1     57         30891     0.0  ...        1.0       1.0    2.0\n",
              "2    245       1251593     0.0  ...        1.0       1.0    2.0\n",
              "3    435         29894     0.0  ...        1.0       1.0    2.0\n",
              "4    462          1243     0.0  ...        1.0       1.0    2.0\n",
              "5     11         27055     0.0  ...        1.0       0.0    2.0\n",
              "6     21         20666     1.0  ...        1.0       0.0    3.0\n",
              "7     22         20666     1.0  ...        1.0       0.0    3.0\n",
              "8     23         20666     1.0  ...        1.0       0.0    3.0\n",
              "9     24         20666     1.0  ...        1.0       0.0    3.0\n",
              "\n",
              "[10 rows x 8 columns]"
            ]
          },
          "metadata": {},
          "execution_count": 20
        }
      ]
    },
    {
      "cell_type": "markdown",
      "source": [
        "# Ejemplo de matching: Glosa - Nombre_cliente"
      ],
      "metadata": {
        "id": "j6hHgk9t13Dd"
      }
    },
    {
      "cell_type": "code",
      "metadata": {
        "colab": {
          "base_uri": "https://localhost:8080/"
        },
        "id": "lNQPB2r_Gw8Z",
        "outputId": "9c54c66d-f749-49b6-8b8a-56f8917996fb"
      },
      "source": [
        "no_conciliados.loc[23,:]"
      ],
      "execution_count": null,
      "outputs": [
        {
          "output_type": "execute_result",
          "data": {
            "text/plain": [
              "MONEDA                                  SOL\n",
              "CUENTABANCO              0661-63-0200043647\n",
              "BANCO                     Banco Continental\n",
              "FECHAMOVIMIENTO         2018-10-24 00:00:00\n",
              "IMPORTE                             2222.91\n",
              "GLOSA              URUMA NAGATOME ALDO JUAN\n",
              "Name: 23, dtype: object"
            ]
          },
          "metadata": {},
          "execution_count": 21
        }
      ]
    },
    {
      "cell_type": "code",
      "metadata": {
        "colab": {
          "base_uri": "https://localhost:8080/"
        },
        "id": "_RKhv6mjG5DN",
        "outputId": "2831f72e-61e5-478f-9dcd-661e023d84ce"
      },
      "source": [
        "base_socio.loc[20666,:]"
      ],
      "execution_count": null,
      "outputs": [
        {
          "output_type": "execute_result",
          "data": {
            "text/plain": [
              "FPROCESO                       2021-08-23 00:00:00\n",
              "CODIGOPERSONA                                20667\n",
              "NUMERO_DOCUMENTO                          08224783\n",
              "TIPODOCID                                   D.N.I.\n",
              "NOMBRE_CLIENTE           URUMA NAGATOME, ALDO JUAN\n",
              "PRIMER_SEGUNDO_NOMBRE                    ALDO JUAN\n",
              "PRIMER_APELLIDO                              URUMA\n",
              "SEGUNDO_APELLIDO                          NAGATOME\n",
              "Name: 20666, dtype: object"
            ]
          },
          "metadata": {},
          "execution_count": 22
        }
      ]
    },
    {
      "cell_type": "code",
      "metadata": {
        "id": "AGSkPT_LK2gX"
      },
      "source": [
        "#Metodo de comparacion de las variables\n",
        "compare = recordlinkage.Compare()\n",
        "compare.string('GLOSA','NOMBRE_CLIENTE',threshold = 0.90,label = 'NOMBRE')\n",
        "compare.string('GLOSA','NOMBRE_CLIENTE',\n",
        "               threshold = 0.75,\n",
        "               label = 'NOMBRE PRCT')\n",
        "compare.string('GLOSA','PRIMER_SEGUNDO_NOMBRE',\n",
        "               method= 'jarowinkler',\n",
        "               threshold = 0.50,\n",
        "               label = 'NOMBRE PRCT2')\n",
        "features2 = compare.compute( candidates_neigh,no_conciliados, base_socio)"
      ],
      "execution_count": null,
      "outputs": []
    },
    {
      "cell_type": "code",
      "metadata": {
        "colab": {
          "base_uri": "https://localhost:8080/",
          "height": 449
        },
        "id": "vO5KCISAM42_",
        "outputId": "3b113242-3616-4683-c6ef-d028a9897aed"
      },
      "source": [
        "features2"
      ],
      "execution_count": null,
      "outputs": [
        {
          "output_type": "execute_result",
          "data": {
            "text/html": [
              "<div>\n",
              "<style scoped>\n",
              "    .dataframe tbody tr th:only-of-type {\n",
              "        vertical-align: middle;\n",
              "    }\n",
              "\n",
              "    .dataframe tbody tr th {\n",
              "        vertical-align: top;\n",
              "    }\n",
              "\n",
              "    .dataframe thead th {\n",
              "        text-align: right;\n",
              "    }\n",
              "</style>\n",
              "<table border=\"1\" class=\"dataframe\">\n",
              "  <thead>\n",
              "    <tr style=\"text-align: right;\">\n",
              "      <th></th>\n",
              "      <th></th>\n",
              "      <th>NOMBRE</th>\n",
              "      <th>NOMBRE PRCT</th>\n",
              "      <th>NOMBRE PRCT2</th>\n",
              "    </tr>\n",
              "    <tr>\n",
              "      <th>INDEX</th>\n",
              "      <th>CODIGO_SOCIO</th>\n",
              "      <th></th>\n",
              "      <th></th>\n",
              "      <th></th>\n",
              "    </tr>\n",
              "  </thead>\n",
              "  <tbody>\n",
              "    <tr>\n",
              "      <th>0</th>\n",
              "      <th>1201052</th>\n",
              "      <td>0.0</td>\n",
              "      <td>0.0</td>\n",
              "      <td>0.0</td>\n",
              "    </tr>\n",
              "    <tr>\n",
              "      <th>1</th>\n",
              "      <th>34586</th>\n",
              "      <td>0.0</td>\n",
              "      <td>0.0</td>\n",
              "      <td>0.0</td>\n",
              "    </tr>\n",
              "    <tr>\n",
              "      <th>2</th>\n",
              "      <th>1251837</th>\n",
              "      <td>0.0</td>\n",
              "      <td>0.0</td>\n",
              "      <td>1.0</td>\n",
              "    </tr>\n",
              "    <tr>\n",
              "      <th>3</th>\n",
              "      <th>44722</th>\n",
              "      <td>0.0</td>\n",
              "      <td>0.0</td>\n",
              "      <td>1.0</td>\n",
              "    </tr>\n",
              "    <tr>\n",
              "      <th>4</th>\n",
              "      <th>150547</th>\n",
              "      <td>0.0</td>\n",
              "      <td>0.0</td>\n",
              "      <td>1.0</td>\n",
              "    </tr>\n",
              "    <tr>\n",
              "      <th>...</th>\n",
              "      <th>...</th>\n",
              "      <td>...</td>\n",
              "      <td>...</td>\n",
              "      <td>...</td>\n",
              "    </tr>\n",
              "    <tr>\n",
              "      <th>463</th>\n",
              "      <th>26693</th>\n",
              "      <td>0.0</td>\n",
              "      <td>0.0</td>\n",
              "      <td>1.0</td>\n",
              "    </tr>\n",
              "    <tr>\n",
              "      <th>464</th>\n",
              "      <th>3205</th>\n",
              "      <td>0.0</td>\n",
              "      <td>0.0</td>\n",
              "      <td>1.0</td>\n",
              "    </tr>\n",
              "    <tr>\n",
              "      <th>465</th>\n",
              "      <th>202074</th>\n",
              "      <td>0.0</td>\n",
              "      <td>0.0</td>\n",
              "      <td>0.0</td>\n",
              "    </tr>\n",
              "    <tr>\n",
              "      <th>466</th>\n",
              "      <th>1600001</th>\n",
              "      <td>1.0</td>\n",
              "      <td>1.0</td>\n",
              "      <td>0.0</td>\n",
              "    </tr>\n",
              "    <tr>\n",
              "      <th>467</th>\n",
              "      <th>150840</th>\n",
              "      <td>0.0</td>\n",
              "      <td>0.0</td>\n",
              "      <td>1.0</td>\n",
              "    </tr>\n",
              "  </tbody>\n",
              "</table>\n",
              "<p>1725 rows × 3 columns</p>\n",
              "</div>"
            ],
            "text/plain": [
              "                    NOMBRE  NOMBRE PRCT  NOMBRE PRCT2\n",
              "INDEX CODIGO_SOCIO                                   \n",
              "0     1201052          0.0          0.0           0.0\n",
              "1     34586            0.0          0.0           0.0\n",
              "2     1251837          0.0          0.0           1.0\n",
              "3     44722            0.0          0.0           1.0\n",
              "4     150547           0.0          0.0           1.0\n",
              "...                    ...          ...           ...\n",
              "463   26693            0.0          0.0           1.0\n",
              "464   3205             0.0          0.0           1.0\n",
              "465   202074           0.0          0.0           0.0\n",
              "466   1600001          1.0          1.0           0.0\n",
              "467   150840           0.0          0.0           1.0\n",
              "\n",
              "[1725 rows x 3 columns]"
            ]
          },
          "metadata": {},
          "execution_count": 24
        }
      ]
    },
    {
      "cell_type": "code",
      "metadata": {
        "colab": {
          "base_uri": "https://localhost:8080/"
        },
        "id": "si2EALl4M6Es",
        "outputId": "9faf3077-4358-44c7-aecf-c42f75a1e07d"
      },
      "source": [
        "features2.sum(axis =1).value_counts().sort_index(ascending=False)"
      ],
      "execution_count": null,
      "outputs": [
        {
          "output_type": "execute_result",
          "data": {
            "text/plain": [
              "3.0     43\n",
              "2.0     38\n",
              "1.0    804\n",
              "0.0    840\n",
              "dtype: int64"
            ]
          },
          "metadata": {},
          "execution_count": 25
        }
      ]
    },
    {
      "cell_type": "code",
      "metadata": {
        "id": "YRG-ijAgNGmz"
      },
      "source": [
        "#CREACION DEL SCORE\n",
        "potencial_matches2 = features2[features2.sum(axis=1)>1].reset_index()"
      ],
      "execution_count": null,
      "outputs": []
    },
    {
      "cell_type": "code",
      "metadata": {
        "colab": {
          "base_uri": "https://localhost:8080/",
          "height": 358
        },
        "id": "EdoOiF-eoGCF",
        "outputId": "21ab993f-c50c-44c8-de56-73464aed3bfe"
      },
      "source": [
        "potencial_matches2['score'] = potencial_matches2.loc[:,'NOMBRE':'NOMBRE PRCT2'].sum(axis=1)\n",
        "potencial_matches2.head(10)\n",
        "#potencial_matches.shape"
      ],
      "execution_count": null,
      "outputs": [
        {
          "output_type": "execute_result",
          "data": {
            "text/html": [
              "<div>\n",
              "<style scoped>\n",
              "    .dataframe tbody tr th:only-of-type {\n",
              "        vertical-align: middle;\n",
              "    }\n",
              "\n",
              "    .dataframe tbody tr th {\n",
              "        vertical-align: top;\n",
              "    }\n",
              "\n",
              "    .dataframe thead th {\n",
              "        text-align: right;\n",
              "    }\n",
              "</style>\n",
              "<table border=\"1\" class=\"dataframe\">\n",
              "  <thead>\n",
              "    <tr style=\"text-align: right;\">\n",
              "      <th></th>\n",
              "      <th>INDEX</th>\n",
              "      <th>CODIGO_SOCIO</th>\n",
              "      <th>NOMBRE</th>\n",
              "      <th>NOMBRE PRCT</th>\n",
              "      <th>NOMBRE PRCT2</th>\n",
              "      <th>score</th>\n",
              "    </tr>\n",
              "  </thead>\n",
              "  <tbody>\n",
              "    <tr>\n",
              "      <th>0</th>\n",
              "      <td>21</td>\n",
              "      <td>20666</td>\n",
              "      <td>1.0</td>\n",
              "      <td>1.0</td>\n",
              "      <td>1.0</td>\n",
              "      <td>3.0</td>\n",
              "    </tr>\n",
              "    <tr>\n",
              "      <th>1</th>\n",
              "      <td>22</td>\n",
              "      <td>20666</td>\n",
              "      <td>1.0</td>\n",
              "      <td>1.0</td>\n",
              "      <td>1.0</td>\n",
              "      <td>3.0</td>\n",
              "    </tr>\n",
              "    <tr>\n",
              "      <th>2</th>\n",
              "      <td>23</td>\n",
              "      <td>20666</td>\n",
              "      <td>1.0</td>\n",
              "      <td>1.0</td>\n",
              "      <td>1.0</td>\n",
              "      <td>3.0</td>\n",
              "    </tr>\n",
              "    <tr>\n",
              "      <th>3</th>\n",
              "      <td>24</td>\n",
              "      <td>20666</td>\n",
              "      <td>1.0</td>\n",
              "      <td>1.0</td>\n",
              "      <td>1.0</td>\n",
              "      <td>3.0</td>\n",
              "    </tr>\n",
              "    <tr>\n",
              "      <th>4</th>\n",
              "      <td>69</td>\n",
              "      <td>151281</td>\n",
              "      <td>1.0</td>\n",
              "      <td>1.0</td>\n",
              "      <td>1.0</td>\n",
              "      <td>3.0</td>\n",
              "    </tr>\n",
              "    <tr>\n",
              "      <th>5</th>\n",
              "      <td>81</td>\n",
              "      <td>201412</td>\n",
              "      <td>1.0</td>\n",
              "      <td>1.0</td>\n",
              "      <td>1.0</td>\n",
              "      <td>3.0</td>\n",
              "    </tr>\n",
              "    <tr>\n",
              "      <th>6</th>\n",
              "      <td>198</td>\n",
              "      <td>151871</td>\n",
              "      <td>1.0</td>\n",
              "      <td>1.0</td>\n",
              "      <td>0.0</td>\n",
              "      <td>2.0</td>\n",
              "    </tr>\n",
              "    <tr>\n",
              "      <th>7</th>\n",
              "      <td>267</td>\n",
              "      <td>38549</td>\n",
              "      <td>1.0</td>\n",
              "      <td>1.0</td>\n",
              "      <td>0.0</td>\n",
              "      <td>2.0</td>\n",
              "    </tr>\n",
              "    <tr>\n",
              "      <th>8</th>\n",
              "      <td>268</td>\n",
              "      <td>11366</td>\n",
              "      <td>1.0</td>\n",
              "      <td>1.0</td>\n",
              "      <td>0.0</td>\n",
              "      <td>2.0</td>\n",
              "    </tr>\n",
              "    <tr>\n",
              "      <th>9</th>\n",
              "      <td>299</td>\n",
              "      <td>41791</td>\n",
              "      <td>1.0</td>\n",
              "      <td>1.0</td>\n",
              "      <td>1.0</td>\n",
              "      <td>3.0</td>\n",
              "    </tr>\n",
              "  </tbody>\n",
              "</table>\n",
              "</div>"
            ],
            "text/plain": [
              "   INDEX  CODIGO_SOCIO  NOMBRE  NOMBRE PRCT  NOMBRE PRCT2  score\n",
              "0     21         20666     1.0          1.0           1.0    3.0\n",
              "1     22         20666     1.0          1.0           1.0    3.0\n",
              "2     23         20666     1.0          1.0           1.0    3.0\n",
              "3     24         20666     1.0          1.0           1.0    3.0\n",
              "4     69        151281     1.0          1.0           1.0    3.0\n",
              "5     81        201412     1.0          1.0           1.0    3.0\n",
              "6    198        151871     1.0          1.0           0.0    2.0\n",
              "7    267         38549     1.0          1.0           0.0    2.0\n",
              "8    268         11366     1.0          1.0           0.0    2.0\n",
              "9    299         41791     1.0          1.0           1.0    3.0"
            ]
          },
          "metadata": {},
          "execution_count": 27
        }
      ]
    },
    {
      "cell_type": "code",
      "metadata": {
        "colab": {
          "base_uri": "https://localhost:8080/"
        },
        "id": "f4N77iUaqz70",
        "outputId": "189b4926-4ca8-45ce-f6a5-558d2990ad4f"
      },
      "source": [
        "no_conciliados.loc[81,:]"
      ],
      "execution_count": null,
      "outputs": [
        {
          "output_type": "execute_result",
          "data": {
            "text/plain": [
              "MONEDA                                                  SOL\n",
              "CUENTABANCO                                  041-3000106330\n",
              "BANCO              Banco Internacional del Peru - INTERBANK\n",
              "FECHAMOVIMIENTO                         2021-05-24 00:00:00\n",
              "IMPORTE                                                 100\n",
              "GLOSA                        CASTAÑEDA ROJAS CLAUDIA FIOREL\n",
              "Name: 81, dtype: object"
            ]
          },
          "metadata": {},
          "execution_count": 30
        }
      ]
    },
    {
      "cell_type": "code",
      "metadata": {
        "colab": {
          "base_uri": "https://localhost:8080/"
        },
        "id": "8mkjmqrcsKO-",
        "outputId": "7148f966-3d4f-4cda-fd39-e2bac75d9f4f"
      },
      "source": [
        "base_socio.loc[201412,:]"
      ],
      "execution_count": null,
      "outputs": [
        {
          "output_type": "execute_result",
          "data": {
            "text/plain": [
              "FPROCESO                              2021-08-23 00:00:00\n",
              "CODIGOPERSONA                                      104442\n",
              "NUMERO_DOCUMENTO                                 40448087\n",
              "TIPODOCID                                          D.N.I.\n",
              "NOMBRE_CLIENTE           CASTAÑEDA ROJAS CLAUDIA FIORELLA\n",
              "PRIMER_SEGUNDO_NOMBRE                    CLAUDIA FIORELLA\n",
              "PRIMER_APELLIDO                                 CASTAÑEDA\n",
              "SEGUNDO_APELLIDO                                    ROJAS\n",
              "Name: 201412, dtype: object"
            ]
          },
          "metadata": {},
          "execution_count": 31
        }
      ]
    },
    {
      "cell_type": "code",
      "metadata": {
        "id": "Xel6VudCsONZ"
      },
      "source": [
        "#MEJORA DE VISUALIZACION DE RESULTADOS\n",
        "#Añadir algunas columnas para compara la data\n",
        "\n",
        "no_conciliados['NAME_COMPARE_NC'] = no_conciliados[['GLOSA','IMPORTE']].apply(lambda x: ' _ '.join(x),axis=1)"
      ],
      "execution_count": null,
      "outputs": []
    },
    {
      "cell_type": "code",
      "metadata": {
        "id": "4UMoDfwbEkfG"
      },
      "source": [
        "base_socio['NAME_COMPARE_BS'] = base_socio[['NOMBRE_CLIENTE']].apply(lambda x: ' _ '\n",
        ".join(x),axis=1)"
      ],
      "execution_count": null,
      "outputs": []
    },
    {
      "cell_type": "code",
      "metadata": {
        "id": "QeZ0N4PZEs_g"
      },
      "source": [
        "no_conciliados_lookup = no_conciliados[['NAME_COMPARE_NC']].reset_index()\n",
        "base_socio_lookup = base_socio[['NAME_COMPARE_BS']].reset_index()"
      ],
      "execution_count": null,
      "outputs": []
    },
    {
      "cell_type": "code",
      "metadata": {
        "colab": {
          "base_uri": "https://localhost:8080/",
          "height": 204
        },
        "id": "kd1dk5XQG-kQ",
        "outputId": "260f0226-fec0-4323-9e13-d190af593c0b"
      },
      "source": [
        "no_conciliados_lookup.head()"
      ],
      "execution_count": null,
      "outputs": [
        {
          "output_type": "execute_result",
          "data": {
            "text/html": [
              "<div>\n",
              "<style scoped>\n",
              "    .dataframe tbody tr th:only-of-type {\n",
              "        vertical-align: middle;\n",
              "    }\n",
              "\n",
              "    .dataframe tbody tr th {\n",
              "        vertical-align: top;\n",
              "    }\n",
              "\n",
              "    .dataframe thead th {\n",
              "        text-align: right;\n",
              "    }\n",
              "</style>\n",
              "<table border=\"1\" class=\"dataframe\">\n",
              "  <thead>\n",
              "    <tr style=\"text-align: right;\">\n",
              "      <th></th>\n",
              "      <th>INDEX</th>\n",
              "      <th>NAME_COMPARE_NC</th>\n",
              "    </tr>\n",
              "  </thead>\n",
              "  <tbody>\n",
              "    <tr>\n",
              "      <th>0</th>\n",
              "      <td>0</td>\n",
              "      <td>A/ PROVEEDO.CAMPOSUR INC SAC _ 110</td>\n",
              "    </tr>\n",
              "    <tr>\n",
              "      <th>1</th>\n",
              "      <td>1</td>\n",
              "      <td>AGÜERO HAMAMOTO DAYANA MIYUKI _ 60</td>\n",
              "    </tr>\n",
              "    <tr>\n",
              "      <th>2</th>\n",
              "      <td>2</td>\n",
              "      <td>AGUIRE HIGA AIDA DELFINA _ 40</td>\n",
              "    </tr>\n",
              "    <tr>\n",
              "      <th>3</th>\n",
              "      <td>3</td>\n",
              "      <td>CALDERON BUITRON RENATO ALFREDO _ 560</td>\n",
              "    </tr>\n",
              "    <tr>\n",
              "      <th>4</th>\n",
              "      <td>4</td>\n",
              "      <td>CAVERO ARCINIEGA CARLA LUZMILA _ 45</td>\n",
              "    </tr>\n",
              "  </tbody>\n",
              "</table>\n",
              "</div>"
            ],
            "text/plain": [
              "   INDEX                        NAME_COMPARE_NC\n",
              "0      0     A/ PROVEEDO.CAMPOSUR INC SAC _ 110\n",
              "1      1     AGÜERO HAMAMOTO DAYANA MIYUKI _ 60\n",
              "2      2          AGUIRE HIGA AIDA DELFINA _ 40\n",
              "3      3  CALDERON BUITRON RENATO ALFREDO _ 560\n",
              "4      4    CAVERO ARCINIEGA CARLA LUZMILA _ 45"
            ]
          },
          "metadata": {},
          "execution_count": 35
        }
      ]
    },
    {
      "cell_type": "code",
      "metadata": {
        "colab": {
          "base_uri": "https://localhost:8080/",
          "height": 204
        },
        "id": "grmrBxb-HAje",
        "outputId": "9f8e7347-a650-4b45-bb71-fad7748e3389"
      },
      "source": [
        "base_socio_lookup.head()"
      ],
      "execution_count": null,
      "outputs": [
        {
          "output_type": "execute_result",
          "data": {
            "text/html": [
              "<div>\n",
              "<style scoped>\n",
              "    .dataframe tbody tr th:only-of-type {\n",
              "        vertical-align: middle;\n",
              "    }\n",
              "\n",
              "    .dataframe tbody tr th {\n",
              "        vertical-align: top;\n",
              "    }\n",
              "\n",
              "    .dataframe thead th {\n",
              "        text-align: right;\n",
              "    }\n",
              "</style>\n",
              "<table border=\"1\" class=\"dataframe\">\n",
              "  <thead>\n",
              "    <tr style=\"text-align: right;\">\n",
              "      <th></th>\n",
              "      <th>CODIGO_SOCIO</th>\n",
              "      <th>NAME_COMPARE_BS</th>\n",
              "    </tr>\n",
              "  </thead>\n",
              "  <tbody>\n",
              "    <tr>\n",
              "      <th>0</th>\n",
              "      <td>35399</td>\n",
              "      <td>CHING , ÑAU YENG</td>\n",
              "    </tr>\n",
              "    <tr>\n",
              "      <th>1</th>\n",
              "      <td>33147</td>\n",
              "      <td>YAMAUCHI FUJIKAWA, KATSUHIRO</td>\n",
              "    </tr>\n",
              "    <tr>\n",
              "      <th>2</th>\n",
              "      <td>42414</td>\n",
              "      <td>LEE , MEEKYUNG</td>\n",
              "    </tr>\n",
              "    <tr>\n",
              "      <th>3</th>\n",
              "      <td>36360</td>\n",
              "      <td>VILLAVICENCIO NAKAMOTO ROMINA</td>\n",
              "    </tr>\n",
              "    <tr>\n",
              "      <th>4</th>\n",
              "      <td>36064</td>\n",
              "      <td>RODRIGUEZ NEYRA, LUIS GUILLERMO</td>\n",
              "    </tr>\n",
              "  </tbody>\n",
              "</table>\n",
              "</div>"
            ],
            "text/plain": [
              "   CODIGO_SOCIO                  NAME_COMPARE_BS\n",
              "0         35399                 CHING , ÑAU YENG\n",
              "1         33147     YAMAUCHI FUJIKAWA, KATSUHIRO\n",
              "2         42414                   LEE , MEEKYUNG\n",
              "3         36360    VILLAVICENCIO NAKAMOTO ROMINA\n",
              "4         36064  RODRIGUEZ NEYRA, LUIS GUILLERMO"
            ]
          },
          "metadata": {},
          "execution_count": 36
        }
      ]
    },
    {
      "cell_type": "code",
      "metadata": {
        "colab": {
          "base_uri": "https://localhost:8080/",
          "height": 204
        },
        "id": "VoDi9_dSHB6o",
        "outputId": "4590e64e-8a4a-4d3e-e45d-e4fff5c72276"
      },
      "source": [
        "compare_merge = potencial_matches.merge(no_conciliados_lookup,how = 'left')\n",
        "compare_merge.head()"
      ],
      "execution_count": null,
      "outputs": [
        {
          "output_type": "execute_result",
          "data": {
            "text/html": [
              "<div>\n",
              "<style scoped>\n",
              "    .dataframe tbody tr th:only-of-type {\n",
              "        vertical-align: middle;\n",
              "    }\n",
              "\n",
              "    .dataframe tbody tr th {\n",
              "        vertical-align: top;\n",
              "    }\n",
              "\n",
              "    .dataframe thead th {\n",
              "        text-align: right;\n",
              "    }\n",
              "</style>\n",
              "<table border=\"1\" class=\"dataframe\">\n",
              "  <thead>\n",
              "    <tr style=\"text-align: right;\">\n",
              "      <th></th>\n",
              "      <th>INDEX</th>\n",
              "      <th>CODIGO_SOCIO</th>\n",
              "      <th>NOMBRE</th>\n",
              "      <th>NOMBRE PRCT</th>\n",
              "      <th>NOMBRES</th>\n",
              "      <th>APELLIDO1</th>\n",
              "      <th>APELLIDO</th>\n",
              "      <th>score</th>\n",
              "      <th>NAME_COMPARE_NC</th>\n",
              "    </tr>\n",
              "  </thead>\n",
              "  <tbody>\n",
              "    <tr>\n",
              "      <th>0</th>\n",
              "      <td>31</td>\n",
              "      <td>13555</td>\n",
              "      <td>0.0</td>\n",
              "      <td>1.0</td>\n",
              "      <td>0.0</td>\n",
              "      <td>1.0</td>\n",
              "      <td>1.0</td>\n",
              "      <td>3.0</td>\n",
              "      <td>HIRATA HIRATA ISABEL _ 2380</td>\n",
              "    </tr>\n",
              "    <tr>\n",
              "      <th>1</th>\n",
              "      <td>57</td>\n",
              "      <td>30891</td>\n",
              "      <td>0.0</td>\n",
              "      <td>0.0</td>\n",
              "      <td>0.0</td>\n",
              "      <td>1.0</td>\n",
              "      <td>1.0</td>\n",
              "      <td>2.0</td>\n",
              "      <td>ARCE ARANIBAR, HUDSON ORLANDO _ 50</td>\n",
              "    </tr>\n",
              "    <tr>\n",
              "      <th>2</th>\n",
              "      <td>245</td>\n",
              "      <td>1251593</td>\n",
              "      <td>0.0</td>\n",
              "      <td>0.0</td>\n",
              "      <td>0.0</td>\n",
              "      <td>1.0</td>\n",
              "      <td>1.0</td>\n",
              "      <td>2.0</td>\n",
              "      <td>FLORES FLORES OSCAR GUILLERMO _ 3000</td>\n",
              "    </tr>\n",
              "    <tr>\n",
              "      <th>3</th>\n",
              "      <td>435</td>\n",
              "      <td>29894</td>\n",
              "      <td>0.0</td>\n",
              "      <td>0.0</td>\n",
              "      <td>0.0</td>\n",
              "      <td>1.0</td>\n",
              "      <td>1.0</td>\n",
              "      <td>2.0</td>\n",
              "      <td>TORRES TORREJON DE OTANI MAERI ESTHE _ 150</td>\n",
              "    </tr>\n",
              "    <tr>\n",
              "      <th>4</th>\n",
              "      <td>462</td>\n",
              "      <td>1243</td>\n",
              "      <td>0.0</td>\n",
              "      <td>0.0</td>\n",
              "      <td>0.0</td>\n",
              "      <td>1.0</td>\n",
              "      <td>1.0</td>\n",
              "      <td>2.0</td>\n",
              "      <td>YTO TAIRA NANCY ROSA _ 5523.94</td>\n",
              "    </tr>\n",
              "  </tbody>\n",
              "</table>\n",
              "</div>"
            ],
            "text/plain": [
              "   INDEX  CODIGO_SOCIO  ...  score                             NAME_COMPARE_NC\n",
              "0     31         13555  ...    3.0                 HIRATA HIRATA ISABEL _ 2380\n",
              "1     57         30891  ...    2.0          ARCE ARANIBAR, HUDSON ORLANDO _ 50\n",
              "2    245       1251593  ...    2.0        FLORES FLORES OSCAR GUILLERMO _ 3000\n",
              "3    435         29894  ...    2.0  TORRES TORREJON DE OTANI MAERI ESTHE _ 150\n",
              "4    462          1243  ...    2.0              YTO TAIRA NANCY ROSA _ 5523.94\n",
              "\n",
              "[5 rows x 9 columns]"
            ]
          },
          "metadata": {},
          "execution_count": 37
        }
      ]
    },
    {
      "cell_type": "code",
      "metadata": {
        "colab": {
          "base_uri": "https://localhost:8080/",
          "height": 204
        },
        "id": "pCTmL1okHuNg",
        "outputId": "6820e63e-d319-4fbf-d307-31ae563a72e4"
      },
      "source": [
        "compare_merge = potencial_matches.merge(base_socio_lookup,how = 'left')\n",
        "compare_merge.head()"
      ],
      "execution_count": null,
      "outputs": [
        {
          "output_type": "execute_result",
          "data": {
            "text/html": [
              "<div>\n",
              "<style scoped>\n",
              "    .dataframe tbody tr th:only-of-type {\n",
              "        vertical-align: middle;\n",
              "    }\n",
              "\n",
              "    .dataframe tbody tr th {\n",
              "        vertical-align: top;\n",
              "    }\n",
              "\n",
              "    .dataframe thead th {\n",
              "        text-align: right;\n",
              "    }\n",
              "</style>\n",
              "<table border=\"1\" class=\"dataframe\">\n",
              "  <thead>\n",
              "    <tr style=\"text-align: right;\">\n",
              "      <th></th>\n",
              "      <th>INDEX</th>\n",
              "      <th>CODIGO_SOCIO</th>\n",
              "      <th>NOMBRE</th>\n",
              "      <th>NOMBRE PRCT</th>\n",
              "      <th>NOMBRES</th>\n",
              "      <th>APELLIDO1</th>\n",
              "      <th>APELLIDO</th>\n",
              "      <th>score</th>\n",
              "      <th>NAME_COMPARE_BS</th>\n",
              "    </tr>\n",
              "  </thead>\n",
              "  <tbody>\n",
              "    <tr>\n",
              "      <th>0</th>\n",
              "      <td>31</td>\n",
              "      <td>13555</td>\n",
              "      <td>0.0</td>\n",
              "      <td>1.0</td>\n",
              "      <td>0.0</td>\n",
              "      <td>1.0</td>\n",
              "      <td>1.0</td>\n",
              "      <td>3.0</td>\n",
              "      <td>HIRATA HIRATA MALLY</td>\n",
              "    </tr>\n",
              "    <tr>\n",
              "      <th>1</th>\n",
              "      <td>57</td>\n",
              "      <td>30891</td>\n",
              "      <td>0.0</td>\n",
              "      <td>0.0</td>\n",
              "      <td>0.0</td>\n",
              "      <td>1.0</td>\n",
              "      <td>1.0</td>\n",
              "      <td>2.0</td>\n",
              "      <td>ARCE ARCE, LUISA MELCHORA</td>\n",
              "    </tr>\n",
              "    <tr>\n",
              "      <th>2</th>\n",
              "      <td>245</td>\n",
              "      <td>1251593</td>\n",
              "      <td>0.0</td>\n",
              "      <td>0.0</td>\n",
              "      <td>0.0</td>\n",
              "      <td>1.0</td>\n",
              "      <td>1.0</td>\n",
              "      <td>2.0</td>\n",
              "      <td>FLORES FLORES SHEYLA VICTORIA</td>\n",
              "    </tr>\n",
              "    <tr>\n",
              "      <th>3</th>\n",
              "      <td>435</td>\n",
              "      <td>29894</td>\n",
              "      <td>0.0</td>\n",
              "      <td>0.0</td>\n",
              "      <td>0.0</td>\n",
              "      <td>1.0</td>\n",
              "      <td>1.0</td>\n",
              "      <td>2.0</td>\n",
              "      <td>TORRES TORRES, CARLOS ENRIQUE</td>\n",
              "    </tr>\n",
              "    <tr>\n",
              "      <th>4</th>\n",
              "      <td>462</td>\n",
              "      <td>1243</td>\n",
              "      <td>0.0</td>\n",
              "      <td>0.0</td>\n",
              "      <td>0.0</td>\n",
              "      <td>1.0</td>\n",
              "      <td>1.0</td>\n",
              "      <td>2.0</td>\n",
              "      <td>YTO YTO JUAN LUIS</td>\n",
              "    </tr>\n",
              "  </tbody>\n",
              "</table>\n",
              "</div>"
            ],
            "text/plain": [
              "   INDEX  CODIGO_SOCIO  NOMBRE  ...  APELLIDO  score                NAME_COMPARE_BS\n",
              "0     31         13555     0.0  ...       1.0    3.0            HIRATA HIRATA MALLY\n",
              "1     57         30891     0.0  ...       1.0    2.0      ARCE ARCE, LUISA MELCHORA\n",
              "2    245       1251593     0.0  ...       1.0    2.0  FLORES FLORES SHEYLA VICTORIA\n",
              "3    435         29894     0.0  ...       1.0    2.0  TORRES TORRES, CARLOS ENRIQUE\n",
              "4    462          1243     0.0  ...       1.0    2.0              YTO YTO JUAN LUIS\n",
              "\n",
              "[5 rows x 9 columns]"
            ]
          },
          "metadata": {},
          "execution_count": 38
        }
      ]
    },
    {
      "cell_type": "code",
      "metadata": {
        "colab": {
          "base_uri": "https://localhost:8080/",
          "height": 204
        },
        "id": "AQ1ryIvPNcuV",
        "outputId": "ef6e318d-9f5f-4cf5-9baa-e0852936dfd8"
      },
      "source": [
        "final_merge = compare_merge.merge(no_conciliados_lookup, how = 'left')\n",
        "final_merge.head()"
      ],
      "execution_count": null,
      "outputs": [
        {
          "output_type": "execute_result",
          "data": {
            "text/html": [
              "<div>\n",
              "<style scoped>\n",
              "    .dataframe tbody tr th:only-of-type {\n",
              "        vertical-align: middle;\n",
              "    }\n",
              "\n",
              "    .dataframe tbody tr th {\n",
              "        vertical-align: top;\n",
              "    }\n",
              "\n",
              "    .dataframe thead th {\n",
              "        text-align: right;\n",
              "    }\n",
              "</style>\n",
              "<table border=\"1\" class=\"dataframe\">\n",
              "  <thead>\n",
              "    <tr style=\"text-align: right;\">\n",
              "      <th></th>\n",
              "      <th>INDEX</th>\n",
              "      <th>CODIGO_SOCIO</th>\n",
              "      <th>NOMBRE</th>\n",
              "      <th>NOMBRE PRCT</th>\n",
              "      <th>NOMBRES</th>\n",
              "      <th>APELLIDO1</th>\n",
              "      <th>APELLIDO</th>\n",
              "      <th>score</th>\n",
              "      <th>NAME_COMPARE_BS</th>\n",
              "      <th>NAME_COMPARE_NC</th>\n",
              "    </tr>\n",
              "  </thead>\n",
              "  <tbody>\n",
              "    <tr>\n",
              "      <th>0</th>\n",
              "      <td>31</td>\n",
              "      <td>13555</td>\n",
              "      <td>0.0</td>\n",
              "      <td>1.0</td>\n",
              "      <td>0.0</td>\n",
              "      <td>1.0</td>\n",
              "      <td>1.0</td>\n",
              "      <td>3.0</td>\n",
              "      <td>HIRATA HIRATA MALLY</td>\n",
              "      <td>HIRATA HIRATA ISABEL _ 2380</td>\n",
              "    </tr>\n",
              "    <tr>\n",
              "      <th>1</th>\n",
              "      <td>57</td>\n",
              "      <td>30891</td>\n",
              "      <td>0.0</td>\n",
              "      <td>0.0</td>\n",
              "      <td>0.0</td>\n",
              "      <td>1.0</td>\n",
              "      <td>1.0</td>\n",
              "      <td>2.0</td>\n",
              "      <td>ARCE ARCE, LUISA MELCHORA</td>\n",
              "      <td>ARCE ARANIBAR, HUDSON ORLANDO _ 50</td>\n",
              "    </tr>\n",
              "    <tr>\n",
              "      <th>2</th>\n",
              "      <td>245</td>\n",
              "      <td>1251593</td>\n",
              "      <td>0.0</td>\n",
              "      <td>0.0</td>\n",
              "      <td>0.0</td>\n",
              "      <td>1.0</td>\n",
              "      <td>1.0</td>\n",
              "      <td>2.0</td>\n",
              "      <td>FLORES FLORES SHEYLA VICTORIA</td>\n",
              "      <td>FLORES FLORES OSCAR GUILLERMO _ 3000</td>\n",
              "    </tr>\n",
              "    <tr>\n",
              "      <th>3</th>\n",
              "      <td>435</td>\n",
              "      <td>29894</td>\n",
              "      <td>0.0</td>\n",
              "      <td>0.0</td>\n",
              "      <td>0.0</td>\n",
              "      <td>1.0</td>\n",
              "      <td>1.0</td>\n",
              "      <td>2.0</td>\n",
              "      <td>TORRES TORRES, CARLOS ENRIQUE</td>\n",
              "      <td>TORRES TORREJON DE OTANI MAERI ESTHE _ 150</td>\n",
              "    </tr>\n",
              "    <tr>\n",
              "      <th>4</th>\n",
              "      <td>462</td>\n",
              "      <td>1243</td>\n",
              "      <td>0.0</td>\n",
              "      <td>0.0</td>\n",
              "      <td>0.0</td>\n",
              "      <td>1.0</td>\n",
              "      <td>1.0</td>\n",
              "      <td>2.0</td>\n",
              "      <td>YTO YTO JUAN LUIS</td>\n",
              "      <td>YTO TAIRA NANCY ROSA _ 5523.94</td>\n",
              "    </tr>\n",
              "  </tbody>\n",
              "</table>\n",
              "</div>"
            ],
            "text/plain": [
              "   INDEX  ...                             NAME_COMPARE_NC\n",
              "0     31  ...                 HIRATA HIRATA ISABEL _ 2380\n",
              "1     57  ...          ARCE ARANIBAR, HUDSON ORLANDO _ 50\n",
              "2    245  ...        FLORES FLORES OSCAR GUILLERMO _ 3000\n",
              "3    435  ...  TORRES TORREJON DE OTANI MAERI ESTHE _ 150\n",
              "4    462  ...              YTO TAIRA NANCY ROSA _ 5523.94\n",
              "\n",
              "[5 rows x 10 columns]"
            ]
          },
          "metadata": {},
          "execution_count": 39
        }
      ]
    },
    {
      "cell_type": "code",
      "metadata": {
        "colab": {
          "base_uri": "https://localhost:8080/",
          "height": 477
        },
        "id": "W81_PDocslj0",
        "outputId": "4bf44e73-be54-42b9-cab0-f0809fa4c413"
      },
      "source": [
        "final_merge2 = final_merge.merge(no_conciliados, how = 'left')\n",
        "final_merge2.head()"
      ],
      "execution_count": null,
      "outputs": [
        {
          "output_type": "execute_result",
          "data": {
            "text/html": [
              "<div>\n",
              "<style scoped>\n",
              "    .dataframe tbody tr th:only-of-type {\n",
              "        vertical-align: middle;\n",
              "    }\n",
              "\n",
              "    .dataframe tbody tr th {\n",
              "        vertical-align: top;\n",
              "    }\n",
              "\n",
              "    .dataframe thead th {\n",
              "        text-align: right;\n",
              "    }\n",
              "</style>\n",
              "<table border=\"1\" class=\"dataframe\">\n",
              "  <thead>\n",
              "    <tr style=\"text-align: right;\">\n",
              "      <th></th>\n",
              "      <th>INDEX</th>\n",
              "      <th>CODIGO_SOCIO</th>\n",
              "      <th>NOMBRE</th>\n",
              "      <th>NOMBRE PRCT</th>\n",
              "      <th>NOMBRES</th>\n",
              "      <th>APELLIDO1</th>\n",
              "      <th>APELLIDO</th>\n",
              "      <th>score</th>\n",
              "      <th>NAME_COMPARE_BS</th>\n",
              "      <th>NAME_COMPARE_NC</th>\n",
              "      <th>MONEDA</th>\n",
              "      <th>CUENTABANCO</th>\n",
              "      <th>BANCO</th>\n",
              "      <th>FECHAMOVIMIENTO</th>\n",
              "      <th>IMPORTE</th>\n",
              "      <th>GLOSA</th>\n",
              "    </tr>\n",
              "  </thead>\n",
              "  <tbody>\n",
              "    <tr>\n",
              "      <th>0</th>\n",
              "      <td>31</td>\n",
              "      <td>13555</td>\n",
              "      <td>0.0</td>\n",
              "      <td>1.0</td>\n",
              "      <td>0.0</td>\n",
              "      <td>1.0</td>\n",
              "      <td>1.0</td>\n",
              "      <td>3.0</td>\n",
              "      <td>HIRATA HIRATA MALLY</td>\n",
              "      <td>HIRATA HIRATA ISABEL _ 2380</td>\n",
              "      <td>USD</td>\n",
              "      <td>142-75-0200064790</td>\n",
              "      <td>Banco Continental</td>\n",
              "      <td>2021-05-19</td>\n",
              "      <td>2380</td>\n",
              "      <td>HIRATA HIRATA ISABEL</td>\n",
              "    </tr>\n",
              "    <tr>\n",
              "      <th>1</th>\n",
              "      <td>57</td>\n",
              "      <td>30891</td>\n",
              "      <td>0.0</td>\n",
              "      <td>0.0</td>\n",
              "      <td>0.0</td>\n",
              "      <td>1.0</td>\n",
              "      <td>1.0</td>\n",
              "      <td>2.0</td>\n",
              "      <td>ARCE ARCE, LUISA MELCHORA</td>\n",
              "      <td>ARCE ARANIBAR, HUDSON ORLANDO _ 50</td>\n",
              "      <td>SOL</td>\n",
              "      <td>044-460-0009-24</td>\n",
              "      <td>Scotiabank</td>\n",
              "      <td>2021-11-05</td>\n",
              "      <td>50</td>\n",
              "      <td>ARCE ARANIBAR, HUDSON ORLANDO</td>\n",
              "    </tr>\n",
              "    <tr>\n",
              "      <th>2</th>\n",
              "      <td>245</td>\n",
              "      <td>1251593</td>\n",
              "      <td>0.0</td>\n",
              "      <td>0.0</td>\n",
              "      <td>0.0</td>\n",
              "      <td>1.0</td>\n",
              "      <td>1.0</td>\n",
              "      <td>2.0</td>\n",
              "      <td>FLORES FLORES SHEYLA VICTORIA</td>\n",
              "      <td>FLORES FLORES OSCAR GUILLERMO _ 3000</td>\n",
              "      <td>SOL</td>\n",
              "      <td>041-3000106330</td>\n",
              "      <td>Banco Internacional del Peru - INTERBANK</td>\n",
              "      <td>2020-06-05</td>\n",
              "      <td>3000</td>\n",
              "      <td>FLORES FLORES OSCAR GUILLERMO</td>\n",
              "    </tr>\n",
              "    <tr>\n",
              "      <th>3</th>\n",
              "      <td>435</td>\n",
              "      <td>29894</td>\n",
              "      <td>0.0</td>\n",
              "      <td>0.0</td>\n",
              "      <td>0.0</td>\n",
              "      <td>1.0</td>\n",
              "      <td>1.0</td>\n",
              "      <td>2.0</td>\n",
              "      <td>TORRES TORRES, CARLOS ENRIQUE</td>\n",
              "      <td>TORRES TORREJON DE OTANI MAERI ESTHE _ 150</td>\n",
              "      <td>SOL</td>\n",
              "      <td>0661-63-0200043647</td>\n",
              "      <td>Banco Continental</td>\n",
              "      <td>2019-11-04</td>\n",
              "      <td>150</td>\n",
              "      <td>TORRES TORREJON DE OTANI MAERI ESTHE</td>\n",
              "    </tr>\n",
              "    <tr>\n",
              "      <th>4</th>\n",
              "      <td>462</td>\n",
              "      <td>1243</td>\n",
              "      <td>0.0</td>\n",
              "      <td>0.0</td>\n",
              "      <td>0.0</td>\n",
              "      <td>1.0</td>\n",
              "      <td>1.0</td>\n",
              "      <td>2.0</td>\n",
              "      <td>YTO YTO JUAN LUIS</td>\n",
              "      <td>YTO TAIRA NANCY ROSA _ 5523.94</td>\n",
              "      <td>USD</td>\n",
              "      <td>2604-0</td>\n",
              "      <td>Aelucoop</td>\n",
              "      <td>2021-03-16</td>\n",
              "      <td>5523.94</td>\n",
              "      <td>YTO TAIRA NANCY ROSA</td>\n",
              "    </tr>\n",
              "  </tbody>\n",
              "</table>\n",
              "</div>"
            ],
            "text/plain": [
              "   INDEX  CODIGO_SOCIO  ...  IMPORTE                                 GLOSA\n",
              "0     31         13555  ...     2380                  HIRATA HIRATA ISABEL\n",
              "1     57         30891  ...       50         ARCE ARANIBAR, HUDSON ORLANDO\n",
              "2    245       1251593  ...     3000         FLORES FLORES OSCAR GUILLERMO\n",
              "3    435         29894  ...      150  TORRES TORREJON DE OTANI MAERI ESTHE\n",
              "4    462          1243  ...  5523.94                  YTO TAIRA NANCY ROSA\n",
              "\n",
              "[5 rows x 16 columns]"
            ]
          },
          "metadata": {},
          "execution_count": 40
        }
      ]
    },
    {
      "cell_type": "code",
      "metadata": {
        "id": "yCCPIkv6OuLM"
      },
      "source": [
        "final_merge2.to_excel('BD Conciliados 20211109v0.xlsx',index=False)"
      ],
      "execution_count": null,
      "outputs": []
    },
    {
      "cell_type": "code",
      "metadata": {
        "id": "J4WnTnuTikKE"
      },
      "source": [],
      "execution_count": null,
      "outputs": []
    },
    {
      "cell_type": "code",
      "source": [],
      "metadata": {
        "id": "RLga0Bza2Dms"
      },
      "execution_count": null,
      "outputs": []
    },
    {
      "cell_type": "markdown",
      "source": [
        "# ALGORITMO FUZZYMATCHER"
      ],
      "metadata": {
        "id": "FZ9QWdxm2Emt"
      }
    },
    {
      "cell_type": "code",
      "metadata": {
        "id": "nlm13mj-p0WA"
      },
      "source": [
        "# Columnas para match left\n",
        "left_on = [\"NOMRE_CLIENTE\"]\n",
        "\n",
        "# Columnas para match right\n",
        "right_on = [\"GLOSA\"]"
      ],
      "execution_count": null,
      "outputs": []
    },
    {
      "cell_type": "code",
      "metadata": {
        "id": "U2wWEmJq15p1"
      },
      "source": [],
      "execution_count": null,
      "outputs": []
    }
  ]
}